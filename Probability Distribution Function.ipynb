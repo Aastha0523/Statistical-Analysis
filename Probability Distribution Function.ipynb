{
 "cells": [
  {
   "cell_type": "markdown",
   "id": "ad008efb",
   "metadata": {},
   "source": [
    "# Probability Mass Function"
   ]
  },
  {
   "cell_type": "code",
   "execution_count": 1,
   "id": "9c6f675b",
   "metadata": {},
   "outputs": [],
   "source": [
    "import pandas as pd"
   ]
  },
  {
   "cell_type": "code",
   "execution_count": 2,
   "id": "642457a5",
   "metadata": {},
   "outputs": [],
   "source": [
    "import random"
   ]
  },
  {
   "cell_type": "code",
   "execution_count": 3,
   "id": "8288e964",
   "metadata": {},
   "outputs": [],
   "source": [
    "L=[]\n",
    "for i in range(10000):\n",
    "    L.append(random.randint(1,6))"
   ]
  },
  {
   "cell_type": "code",
   "execution_count": 4,
   "id": "1be31a0d",
   "metadata": {},
   "outputs": [
    {
     "data": {
      "text/plain": [
       "10000"
      ]
     },
     "execution_count": 4,
     "metadata": {},
     "output_type": "execute_result"
    }
   ],
   "source": [
    "len(L)"
   ]
  },
  {
   "cell_type": "code",
   "execution_count": 5,
   "id": "4ce31f98",
   "metadata": {},
   "outputs": [
    {
     "data": {
      "text/plain": [
       "[1, 1, 6, 5, 3]"
      ]
     },
     "execution_count": 5,
     "metadata": {},
     "output_type": "execute_result"
    }
   ],
   "source": [
    "L[:5]"
   ]
  },
  {
   "cell_type": "code",
   "execution_count": 6,
   "id": "d38e9426",
   "metadata": {},
   "outputs": [
    {
     "data": {
      "text/plain": [
       "6    1746\n",
       "2    1682\n",
       "1    1674\n",
       "5    1667\n",
       "4    1643\n",
       "3    1588\n",
       "Name: count, dtype: int64"
      ]
     },
     "execution_count": 6,
     "metadata": {},
     "output_type": "execute_result"
    }
   ],
   "source": [
    "pd.Series(L).value_counts()"
   ]
  },
  {
   "cell_type": "code",
   "execution_count": 9,
   "id": "eacf97ed",
   "metadata": {},
   "outputs": [],
   "source": [
    "s = (pd.Series(L).value_counts()/pd.Series(L).value_counts().sum()).sort_index()"
   ]
  },
  {
   "cell_type": "code",
   "execution_count": 10,
   "id": "8de6fb7e",
   "metadata": {},
   "outputs": [
    {
     "data": {
      "text/plain": [
       "<Axes: >"
      ]
     },
     "execution_count": 10,
     "metadata": {},
     "output_type": "execute_result"
    },
    {
     "data": {
      "image/png": "[encoded data removed]",
      "text/plain": [
       "<Figure size 432x288 with 1 Axes>"
      ]
     },
     "metadata": {
      "needs_background": "light"
     },
     "output_type": "display_data"
    }
   ],
   "source": [
    "s.plot(kind='bar')"
   ]
  },
  {
   "cell_type": "code",
   "execution_count": 11,
   "id": "bda0b6ed",
   "metadata": {},
   "outputs": [],
   "source": [
    "L=[]\n",
    "for i in range(10000):\n",
    "    a = random.randint(1,6)\n",
    "    b = random.randint(1,6)\n",
    "    L.append(a+b)"
   ]
  },
  {
   "cell_type": "code",
   "execution_count": 12,
   "id": "a481b96f",
   "metadata": {},
   "outputs": [
    {
     "data": {
      "text/plain": [
       "10000"
      ]
     },
     "execution_count": 12,
     "metadata": {},
     "output_type": "execute_result"
    }
   ],
   "source": [
    "len(L)"
   ]
  },
  {
   "cell_type": "code",
   "execution_count": 13,
   "id": "dd74ca91",
   "metadata": {},
   "outputs": [
    {
     "data": {
      "text/plain": [
       "[6, 7, 6, 7, 7]"
      ]
     },
     "execution_count": 13,
     "metadata": {},
     "output_type": "execute_result"
    }
   ],
   "source": [
    "L[:5]"
   ]
  },
  {
   "cell_type": "code",
   "execution_count": 14,
   "id": "0784974e",
   "metadata": {},
   "outputs": [],
   "source": [
    "s = (pd.Series(L).value_counts()/pd.Series(L).value_counts().sum()).sort_index()"
   ]
  },
  {
   "cell_type": "code",
   "execution_count": 16,
   "id": "9077f8cb",
   "metadata": {},
   "outputs": [
    {
     "data": {
      "text/plain": [
       "2     0.0237\n",
       "3     0.0585\n",
       "4     0.0823\n",
       "5     0.1125\n",
       "6     0.1372\n",
       "7     0.1637\n",
       "8     0.1420\n",
       "9     0.1136\n",
       "10    0.0819\n",
       "11    0.0566\n",
       "12    0.0280\n",
       "Name: count, dtype: float64"
      ]
     },
     "execution_count": 16,
     "metadata": {},
     "output_type": "execute_result"
    }
   ],
   "source": [
    "s"
   ]
  },
  {
   "cell_type": "code",
   "execution_count": 17,
   "id": "c7d9d317",
   "metadata": {},
   "outputs": [
    {
     "data": {
      "text/plain": [
       "<Axes: >"
      ]
     },
     "execution_count": 17,
     "metadata": {},
     "output_type": "execute_result"
    },
    {
     "data": {
      "image/png": "[encoded data removed]",
      "text/plain": [
       "<Figure size 432x288 with 1 Axes>"
      ]
     },
     "metadata": {
      "needs_background": "light"
     },
     "output_type": "display_data"
    }
   ],
   "source": [
    "s.plot(kind='bar')"
   ]
  },
  {
   "cell_type": "markdown",
   "id": "27ccaa44",
   "metadata": {},
   "source": [
    "# CDF of a PMF"
   ]
  },
  {
   "cell_type": "code",
   "execution_count": 18,
   "id": "e89da46f",
   "metadata": {},
   "outputs": [],
   "source": [
    "import numpy as np"
   ]
  },
  {
   "cell_type": "code",
   "execution_count": 19,
   "id": "472dfae0",
   "metadata": {},
   "outputs": [
    {
     "data": {
      "text/plain": [
       "2     0.0237\n",
       "3     0.0822\n",
       "4     0.1645\n",
       "5     0.2770\n",
       "6     0.4142\n",
       "7     0.5779\n",
       "8     0.7199\n",
       "9     0.8335\n",
       "10    0.9154\n",
       "11    0.9720\n",
       "12    1.0000\n",
       "Name: count, dtype: float64"
      ]
     },
     "execution_count": 19,
     "metadata": {},
     "output_type": "execute_result"
    }
   ],
   "source": [
    "np.cumsum(s)"
   ]
  },
  {
   "cell_type": "code",
   "execution_count": 20,
   "id": "a583f16e",
   "metadata": {},
   "outputs": [
    {
     "data": {
      "text/plain": [
       "<Axes: >"
      ]
     },
     "execution_count": 20,
     "metadata": {},
     "output_type": "execute_result"
    },
    {
     "data": {
      "image/png": "[encoded data removed]",
      "text/plain": [
       "<Figure size 432x288 with 1 Axes>"
      ]
     },
     "metadata": {
      "needs_background": "light"
     },
     "output_type": "display_data"
    }
   ],
   "source": [
    "np.cumsum(s).plot(kind='bar')"
   ]
  },
  {
   "cell_type": "markdown",
   "id": "796d8ffb",
   "metadata": {},
   "source": [
    "# Parametric Destiny Estimation"
   ]
  },
  {
   "cell_type": "code",
   "execution_count": 22,
   "id": "8b2365c1",
   "metadata": {},
   "outputs": [],
   "source": [
    "import matplotlib.pyplot as plt\n",
    "import numpy as np\n",
    "from numpy.random import normal\n",
    "\n",
    "sample = normal(loc=50, scale=5, size=1000)"
   ]
  },
  {
   "cell_type": "code",
   "execution_count": 23,
   "id": "a321eb99",
   "metadata": {},
   "outputs": [
    {
     "data": {
      "text/plain": [
       "array([48.57129213, 44.34826034, 51.21278597, 51.14490926, 49.59551741,\n",
       "       46.57702588, 51.71012014, 45.81751205, 63.83721616, 52.19766035,\n",
       "       56.26401145, 42.48258924, 55.57551724, 48.04536132, 53.2555349 ,\n",
       "       51.28288264, 50.83758162, 40.00203445, 50.77972935, 40.57002157,\n",
       "       45.12459587, 48.95232652, 59.8024987 , 50.31088791, 48.93337678,\n",
       "       53.19209065, 46.3692882 , 46.66303702, 44.62585967, 47.21325815,\n",
       "       51.08463322, 56.72407188, 48.8377204 , 55.17876833, 44.85079838,\n",
       "       45.68375777, 47.35143633, 50.99436215, 41.11433266, 53.50937658,\n",
       "       43.35042863, 49.00220631, 43.10189153, 46.55108683, 44.09927437,\n",
       "       42.58330913, 56.51997955, 49.07402151, 61.64127345, 50.51781058,\n",
       "       52.15539838, 40.81593508, 45.34539652, 52.20967148, 50.91454454,\n",
       "       56.49529332, 49.36408455, 44.63054012, 49.72925459, 50.74021302,\n",
       "       46.11276799, 48.06771493, 52.64754949, 51.35423485, 50.1270016 ,\n",
       "       42.78346524, 49.87759532, 50.91029888, 54.03546474, 52.99851228,\n",
       "       53.40398945, 43.41413277, 52.64565383, 55.41767904, 55.64566775,\n",
       "       42.43099914, 42.26691846, 49.6841077 , 50.157888  , 46.30052784,\n",
       "       52.87659652, 48.14677497, 37.99522284, 43.83183832, 54.00683548,\n",
       "       53.10484813, 57.10207369, 54.73401042, 45.78651059, 44.05176493,\n",
       "       47.38455546, 55.0908153 , 46.44870327, 58.28508135, 48.89064311,\n",
       "       47.84656133, 56.37401241, 40.43648296, 59.25361096, 47.23462275,\n",
       "       47.17506797, 55.99066036, 56.0551396 , 63.6358355 , 47.34872614,\n",
       "       47.04001712, 44.94034647, 49.40835597, 42.40508962, 52.28792938,\n",
       "       51.70695872, 55.72559755, 45.45440219, 44.30245803, 45.31391756,\n",
       "       49.19153034, 51.3153357 , 52.97538843, 48.39003529, 49.37217227,\n",
       "       49.79274634, 54.76177372, 52.05666973, 46.63999478, 49.78237165,\n",
       "       49.37284515, 55.31534053, 55.5491456 , 49.31088156, 46.24513819,\n",
       "       50.33529202, 48.70032346, 50.10115612, 50.35306548, 45.41193935,\n",
       "       53.13919936, 51.56329891, 52.2593132 , 52.00929544, 56.54726642,\n",
       "       52.46523312, 47.78476714, 48.48297706, 53.43183452, 53.58185812,\n",
       "       57.5311059 , 53.8031726 , 50.47009958, 52.2036367 , 47.27661171,\n",
       "       53.25569945, 54.92874006, 53.05218057, 50.26976756, 56.43698702,\n",
       "       58.33761513, 47.17141922, 56.54850614, 50.58862777, 56.91775282,\n",
       "       49.22991439, 45.31769383, 49.02614103, 49.68953289, 52.42127179,\n",
       "       57.26122624, 60.87293877, 52.24129849, 45.51408943, 50.77962843,\n",
       "       55.8176007 , 45.55704245, 50.00942697, 51.96655672, 50.49783394,\n",
       "       53.09571439, 46.5113452 , 53.47614869, 51.78295041, 52.43978552,\n",
       "       48.54074623, 59.65140895, 47.64609481, 53.19905128, 52.37779996,\n",
       "       50.96941143, 55.08746612, 50.58126127, 54.58631867, 59.06586755,\n",
       "       59.35575806, 54.04828204, 40.92389229, 48.32610866, 57.46859409,\n",
       "       50.23388847, 52.1377196 , 50.74596393, 51.69964497, 52.08186762,\n",
       "       59.25137109, 46.58567721, 52.07405467, 47.98035211, 53.01819605,\n",
       "       48.62106403, 52.36556306, 52.36015835, 44.17410816, 51.55560614,\n",
       "       45.64988944, 47.3745988 , 48.91700464, 51.0721676 , 43.26617106,\n",
       "       48.80175199, 53.63254861, 49.07556293, 46.05345673, 55.25412079,\n",
       "       52.20847745, 55.90073907, 57.05382199, 58.51230752, 47.75288631,\n",
       "       60.01966277, 42.53342458, 47.34989509, 48.1444914 , 40.67413046,\n",
       "       52.3206215 , 54.56705872, 51.41332669, 47.46690687, 44.65097537,\n",
       "       51.19537367, 48.37838442, 39.70040783, 51.34652625, 59.344329  ,\n",
       "       56.74076527, 56.72469753, 51.14234635, 46.51457169, 47.03572697,\n",
       "       48.73614686, 50.91182849, 51.56637951, 46.1203185 , 56.66484038,\n",
       "       48.69324127, 52.16096599, 51.1906715 , 49.17989584, 48.04036264,\n",
       "       49.30666257, 51.39152705, 49.73979308, 50.96834855, 46.26513767,\n",
       "       51.58707038, 47.72386834, 50.10087508, 45.4895093 , 49.46957603,\n",
       "       35.81182715, 48.79163557, 45.46650725, 45.19747842, 50.40266971,\n",
       "       58.67320029, 59.06477405, 52.86025485, 46.19290235, 45.76734229,\n",
       "       42.90042656, 37.42021804, 50.79504044, 45.65224877, 54.50739531,\n",
       "       51.27346656, 60.6537799 , 53.72623237, 53.82239143, 46.58473249,\n",
       "       57.06424338, 41.25373064, 51.87887872, 46.06401683, 53.54727265,\n",
       "       49.32488531, 50.02153461, 55.09497799, 48.25964931, 48.89544753,\n",
       "       41.29752363, 53.32158598, 50.70463932, 53.74449479, 56.74392124,\n",
       "       50.64058695, 49.27701377, 51.86936569, 41.72556271, 51.85613835,\n",
       "       56.06662748, 42.59775667, 48.7340184 , 40.25745177, 46.69700939,\n",
       "       50.2630636 , 38.87912792, 54.3617932 , 43.13742656, 55.66123861,\n",
       "       50.48936086, 45.44006399, 47.86319027, 56.17125654, 37.31313235,\n",
       "       47.73543104, 46.5784736 , 45.54595488, 50.30030199, 52.86526923,\n",
       "       53.89403613, 54.03554443, 56.66610043, 44.82467631, 50.67494902,\n",
       "       54.41016966, 48.12335802, 52.08884232, 53.57489931, 51.60584372,\n",
       "       44.98666508, 49.9096279 , 52.42585905, 49.89821941, 37.6714876 ,\n",
       "       43.14780864, 44.3568314 , 53.48107856, 50.88843297, 50.62254977,\n",
       "       47.96402545, 44.06797128, 58.66495007, 56.16505126, 41.17773302,\n",
       "       46.07286011, 52.4119835 , 57.14416107, 47.83581773, 59.69125078,\n",
       "       50.47461217, 51.04384587, 41.99337983, 50.55310432, 46.87295835,\n",
       "       49.73321427, 44.01507552, 44.17061839, 53.22099228, 49.88791122,\n",
       "       47.9267784 , 54.09546586, 54.37590748, 48.42228408, 51.44703577,\n",
       "       50.76490073, 59.03405534, 49.20893157, 46.75217756, 46.13128003,\n",
       "       54.12569473, 56.01463339, 52.32584958, 52.70496596, 39.74968159,\n",
       "       61.35428866, 52.4407849 , 47.49117171, 52.06583122, 49.52332786,\n",
       "       42.6818025 , 51.57868573, 47.54673668, 45.28508144, 63.82242853,\n",
       "       49.61142665, 49.64949561, 54.15222636, 54.8059408 , 44.34351882,\n",
       "       42.35364451, 57.10072843, 44.55052628, 49.31679295, 56.36311626,\n",
       "       47.09120966, 49.96504568, 57.62069501, 52.31609123, 55.21582542,\n",
       "       52.55923536, 39.43245367, 48.88824067, 41.5153358 , 50.85367472,\n",
       "       49.87143165, 51.8109064 , 50.24533184, 54.764859  , 45.48539493,\n",
       "       52.73636236, 60.1020884 , 51.74582071, 55.98592645, 51.23378149,\n",
       "       58.04658589, 42.83373495, 48.99903679, 61.85798611, 44.277465  ,\n",
       "       60.60708741, 50.77458003, 55.7970239 , 46.16907959, 45.70438202,\n",
       "       43.76987438, 51.36000547, 49.78998797, 48.32483053, 46.69002058,\n",
       "       43.48257361, 48.66984772, 46.72130334, 49.11508439, 45.07875627,\n",
       "       48.27479669, 55.27443253, 54.20325941, 45.63644366, 51.73043974,\n",
       "       52.27488042, 57.40630797, 52.97844046, 49.77982713, 54.79041378,\n",
       "       60.82285259, 43.69503021, 50.69477979, 50.76430945, 56.43668006,\n",
       "       51.05219196, 50.9200459 , 52.78326646, 48.48538663, 51.99533504,\n",
       "       44.03812595, 52.6162456 , 49.24299829, 44.35187935, 46.54954214,\n",
       "       50.55670602, 47.1627684 , 52.38569192, 42.14911   , 54.22707194,\n",
       "       53.38975957, 53.24750841, 49.33915455, 49.2899867 , 52.16855988,\n",
       "       49.06235897, 43.8310399 , 60.24670065, 46.53230941, 47.55605301,\n",
       "       53.49611171, 47.02008989, 59.14339325, 47.83533476, 52.06326773,\n",
       "       48.02868406, 54.07312049, 54.1000799 , 44.97733175, 50.79391454,\n",
       "       58.59844472, 40.9411095 , 56.50623602, 52.64187369, 54.14402829,\n",
       "       48.99214782, 51.1218802 , 50.12758888, 46.628325  , 48.46930422,\n",
       "       46.29612685, 58.70691463, 55.50994036, 42.33585001, 52.87310517,\n",
       "       42.67873773, 55.37207327, 53.05016065, 50.25235136, 40.24988101,\n",
       "       43.85031529, 56.39065242, 50.28483984, 44.05830372, 53.94904118,\n",
       "       52.9214033 , 47.91542451, 64.10544362, 48.91608152, 48.43101296,\n",
       "       50.19467839, 52.25667543, 54.41053091, 49.55838922, 51.08523316,\n",
       "       41.30299224, 42.82675012, 45.5050397 , 58.62009106, 53.01266652,\n",
       "       46.32539194, 60.44473968, 53.0495022 , 49.73262217, 44.65782152,\n",
       "       46.22202766, 50.87450085, 52.7612702 , 51.32166569, 37.51847636,\n",
       "       49.05967174, 53.35791994, 52.1539002 , 49.64456813, 54.00925626,\n",
       "       52.34009197, 55.51790719, 45.5441728 , 50.26221381, 44.36228386,\n",
       "       49.19633361, 52.85438135, 49.45236752, 44.84223247, 40.46007422,\n",
       "       36.77124556, 51.80495876, 56.18206626, 45.18820872, 43.70614508,\n",
       "       54.22051531, 49.45131098, 47.8903642 , 48.70119568, 51.13573482,\n",
       "       46.85172   , 47.91994832, 52.82575586, 52.92984385, 54.01144427,\n",
       "       56.47347241, 49.71947388, 47.35489432, 53.79577673, 46.72118101,\n",
       "       44.00147993, 55.30006098, 45.07479287, 54.13503075, 50.91167959,\n",
       "       50.14855825, 40.64325092, 50.74772779, 50.96176809, 44.51021119,\n",
       "       50.10379989, 42.62385952, 59.99355414, 56.73328213, 58.50015386,\n",
       "       53.39408756, 54.76203676, 50.94474305, 52.03326394, 39.5207493 ,\n",
       "       48.80856675, 36.60916389, 52.73850897, 53.09060619, 45.41251086,\n",
       "       48.75872702, 42.92696304, 42.19605567, 54.32936092, 52.90316582,\n",
       "       50.07566538, 44.33293177, 45.54979801, 56.46836809, 52.93994226,\n",
       "       63.56422981, 47.48752956, 58.80076333, 41.78231364, 47.87001624,\n",
       "       45.84159184, 49.20982394, 50.80510349, 59.5584549 , 46.59391973,\n",
       "       54.58667985, 48.29593682, 55.12178159, 55.22123625, 49.33112287,\n",
       "       48.47819659, 54.63523521, 40.83762857, 48.4781632 , 46.95516737,\n",
       "       53.55771924, 45.63160395, 43.02948251, 51.2427591 , 52.18720835,\n",
       "       54.80667508, 49.95038501, 55.50641459, 51.24741407, 50.06675478,\n",
       "       54.67865738, 53.4751591 , 46.57356471, 55.25961822, 47.36771558,\n",
       "       51.22361039, 50.32054365, 48.37000195, 62.62753949, 55.45180999,\n",
       "       51.5731068 , 56.37523624, 57.89904508, 48.30126139, 46.20919744,\n",
       "       46.86182038, 48.44596912, 50.04064342, 52.27556802, 53.0231675 ,\n",
       "       59.58420751, 55.69433242, 54.42412793, 44.44179135, 58.01355445,\n",
       "       51.82865193, 51.70186686, 44.96722205, 46.57936386, 48.40452526,\n",
       "       49.53265643, 53.61332585, 62.09385013, 45.31971749, 52.53835827,\n",
       "       53.29292646, 50.98632715, 37.18917418, 48.32089333, 46.06090053,\n",
       "       47.62398398, 51.31056245, 56.92192768, 50.78336726, 51.3343667 ,\n",
       "       55.60694236, 47.72887379, 50.15797553, 49.58718741, 49.33836602,\n",
       "       47.1556308 , 47.83375922, 40.62244591, 48.65023852, 43.21897315,\n",
       "       40.72979009, 47.86721735, 47.51972893, 50.02695281, 45.53227878,\n",
       "       48.97416379, 43.10162938, 40.81714506, 54.19734097, 49.76866332,\n",
       "       52.09947087, 54.02679406, 47.85947234, 43.78968708, 58.78118981,\n",
       "       58.45228333, 54.92501535, 42.28522958, 53.91866447, 44.47658663,\n",
       "       43.46451564, 47.35869295, 41.67312356, 52.69825581, 51.70953424,\n",
       "       51.13461428, 55.38746044, 49.75113956, 47.31414998, 48.11159797,\n",
       "       55.08471639, 43.54857975, 49.97803349, 45.16829228, 44.53987188,\n",
       "       57.58395798, 55.31781314, 45.57490612, 51.41922728, 43.12101408,\n",
       "       50.12124715, 48.30989917, 52.79082057, 53.09679485, 52.98641643,\n",
       "       48.46103754, 53.74507591, 54.42096013, 53.10657029, 50.66390079,\n",
       "       51.10590661, 47.69671784, 40.594183  , 52.29410957, 54.66831886,\n",
       "       44.80743757, 48.06160654, 51.17722087, 49.48035782, 45.85696876,\n",
       "       45.87805063, 54.85110221, 47.83189907, 50.92662122, 42.92923316,\n",
       "       50.70420406, 49.77946333, 47.61523131, 45.22165491, 50.62496446,\n",
       "       49.97316174, 52.41479222, 51.10308945, 41.67098288, 45.38633625,\n",
       "       50.06802372, 39.05524805, 51.72910165, 47.86434594, 50.62879643,\n",
       "       52.63221668, 50.57904549, 45.35044019, 44.40936017, 50.15452848,\n",
       "       44.91528128, 40.50134682, 47.39829507, 48.09514743, 52.64090706,\n",
       "       45.00453657, 53.16969432, 45.78973886, 42.9162265 , 56.21840117,\n",
       "       52.07595556, 44.60936093, 49.64980422, 51.19283227, 40.08121821,\n",
       "       59.74864956, 46.94195869, 60.65869587, 42.5479364 , 51.16327122,\n",
       "       38.62068732, 55.23216917, 57.081917  , 52.8822143 , 51.63184033,\n",
       "       48.76861519, 47.87381455, 48.96263008, 55.42821594, 51.71622312,\n",
       "       52.93345919, 49.86783383, 46.0392065 , 48.78950989, 52.67883056,\n",
       "       56.01019614, 47.11122328, 50.49443344, 58.50610902, 51.76321538,\n",
       "       48.25204914, 51.70568194, 47.9526146 , 58.32235353, 49.98765262,\n",
       "       49.29541598, 51.92514333, 55.1502553 , 50.57956513, 54.00839531,\n",
       "       55.97206957, 58.43409281, 44.9190218 , 50.05690036, 41.69777696,\n",
       "       50.97581751, 49.19149695, 52.8392869 , 43.77939234, 51.32552754,\n",
       "       60.68559696, 50.52672815, 46.00768321, 45.37592506, 50.45443091,\n",
       "       43.7174784 , 50.19487113, 50.41331613, 47.48892909, 57.81571018,\n",
       "       43.13198753, 50.51980813, 54.3698219 , 58.76807379, 50.83170952,\n",
       "       48.56797965, 45.85750478, 43.08171775, 36.83819465, 40.91097416,\n",
       "       49.09547856, 49.21750923, 55.99800778, 46.88515077, 51.20252901,\n",
       "       51.06043656, 48.21910823, 53.7139797 , 52.81005239, 60.15734913,\n",
       "       57.06982987, 48.14011532, 44.49158334, 50.89572336, 52.34305097,\n",
       "       49.04732809, 49.40436169, 49.62580246, 47.68308475, 51.77467716,\n",
       "       50.24147487, 49.75626198, 57.7252176 , 45.39192637, 51.25657779,\n",
       "       50.06712294, 44.93276349, 45.6832078 , 57.72920524, 46.1775272 ,\n",
       "       54.04268762, 41.59667675, 51.24756704, 53.6613436 , 50.51073818,\n",
       "       56.23561494, 51.52123507, 43.90685745, 53.2223299 , 47.04363827,\n",
       "       47.40944029, 45.76702932, 56.60518701, 45.99461855, 57.71968755,\n",
       "       43.0898837 , 60.16334357, 53.71980651, 53.96255681, 51.84473529,\n",
       "       51.20680144, 49.91417442, 52.96699054, 51.24942666, 50.82354476,\n",
       "       57.19611185, 56.31147114, 44.71658673, 49.81412978, 48.7146911 ,\n",
       "       54.76267303, 50.00974871, 53.56539547, 46.96821239, 47.87562624,\n",
       "       45.37801082, 47.78741771, 44.29932944, 50.53563886, 58.30169655,\n",
       "       56.99140546, 52.21528656, 46.22247672, 47.08084293, 50.3191441 ,\n",
       "       54.1140653 , 45.48331302, 44.45791287, 51.64195217, 48.79399981,\n",
       "       60.49173984, 49.59610508, 40.18208654, 55.96015983, 40.88037389,\n",
       "       51.01736329, 41.94568054, 47.95063979, 46.69683066, 59.92731311,\n",
       "       54.91891191, 51.89827195, 52.44315825, 58.29944555, 49.03131099,\n",
       "       46.86056996, 52.63149647, 53.82286969, 42.78115779, 43.7425547 ,\n",
       "       47.91980824, 52.35339317, 61.44782057, 49.13520122, 43.51297501,\n",
       "       49.39891316, 48.09450298, 50.35371559, 43.72750699, 49.72574689,\n",
       "       53.8705538 , 49.54166591, 38.90095354, 57.9361614 , 46.65968509,\n",
       "       47.97946203, 45.17094751, 52.09572733, 47.51298914, 45.81092257,\n",
       "       47.41986283, 44.56842506, 47.14385785, 53.93561749, 48.88005393,\n",
       "       52.16375712, 50.63216051, 47.26697701, 54.25715659, 50.67141222,\n",
       "       52.07041568, 41.4499721 , 45.05700485, 51.08245986, 52.02523062,\n",
       "       48.97637386, 33.30453351, 59.17701913, 46.20924544, 51.9316567 ])"
      ]
     },
     "execution_count": 23,
     "metadata": {},
     "output_type": "execute_result"
    }
   ],
   "source": [
    "sample"
   ]
  },
  {
   "cell_type": "code",
   "execution_count": 24,
   "id": "83cd53dd",
   "metadata": {},
   "outputs": [
    {
     "data": {
      "text/plain": [
       "50.0726040162647"
      ]
     },
     "execution_count": 24,
     "metadata": {},
     "output_type": "execute_result"
    }
   ],
   "source": [
    "sample.mean()"
   ]
  },
  {
   "cell_type": "code",
   "execution_count": 25,
   "id": "4fe4045a",
   "metadata": {},
   "outputs": [
    {
     "data": {
      "text/plain": [
       "(array([  2.,  14.,  49., 123., 184., 271., 199.,  97.,  50.,  11.]),\n",
       " array([33.30453351, 36.38462452, 39.46471553, 42.54480654, 45.62489755,\n",
       "        48.70498857, 51.78507958, 54.86517059, 57.9452616 , 61.02535261,\n",
       "        64.10544362]),\n",
       " <BarContainer object of 10 artists>)"
      ]
     },
     "execution_count": 25,
     "metadata": {},
     "output_type": "execute_result"
    },
    {
     "data": {
      "image/png": "[encoded data removed]",
      "text/plain": [
       "<Figure size 432x288 with 1 Axes>"
      ]
     },
     "metadata": {
      "needs_background": "light"
     },
     "output_type": "display_data"
    }
   ],
   "source": [
    "#plot histogram to understand the distribution of data\n",
    "plt.hist(sample,bins=10)"
   ]
  },
  {
   "cell_type": "code",
   "execution_count": 27,
   "id": "2da9174a",
   "metadata": {},
   "outputs": [],
   "source": [
    "# calculate sample mean and sample std dev\n",
    "sample_mean = sample.mean()\n",
    "sample_std = sample.std()"
   ]
  },
  {
   "cell_type": "code",
   "execution_count": 28,
   "id": "6468de9c",
   "metadata": {},
   "outputs": [],
   "source": [
    "# fit the distribution with the above parameters\n",
    "\n",
    "from scipy.stats import norm\n",
    "dist = norm(sample_mean, sample_std)"
   ]
  },
  {
   "cell_type": "code",
   "execution_count": 29,
   "id": "cdd8bcb9",
   "metadata": {},
   "outputs": [],
   "source": [
    "values = np.linspace(sample.min(), sample.max(),100)"
   ]
  },
  {
   "cell_type": "code",
   "execution_count": 30,
   "id": "e8203a00",
   "metadata": {},
   "outputs": [
    {
     "data": {
      "text/plain": [
       "64.10544361775356"
      ]
     },
     "execution_count": 30,
     "metadata": {},
     "output_type": "execute_result"
    }
   ],
   "source": [
    "sample.max()"
   ]
  },
  {
   "cell_type": "code",
   "execution_count": 31,
   "id": "b6ded4af",
   "metadata": {},
   "outputs": [],
   "source": [
    "probabilities = [dist.pdf(value) for value in values]"
   ]
  },
  {
   "cell_type": "code",
   "execution_count": 32,
   "id": "a917efbc",
   "metadata": {},
   "outputs": [
    {
     "data": {
      "text/plain": [
       "[<matplotlib.lines.Line2D at 0x1f852aa78e0>]"
      ]
     },
     "execution_count": 32,
     "metadata": {},
     "output_type": "execute_result"
    },
    {
     "data": {
      "image/png": "[encoded data removed]",
      "text/plain": [
       "<Figure size 432x288 with 1 Axes>"
      ]
     },
     "metadata": {
      "needs_background": "light"
     },
     "output_type": "display_data"
    }
   ],
   "source": [
    "#plot the histogram and pdf\n",
    "plt.hist(sample,bins=10)\n",
    "plt.plot(values, probabilities)"
   ]
  },
  {
   "cell_type": "code",
   "execution_count": 33,
   "id": "0bf68d39",
   "metadata": {},
   "outputs": [
    {
     "data": {
      "text/plain": [
       "[<matplotlib.lines.Line2D at 0x1f852b49c00>]"
      ]
     },
     "execution_count": 33,
     "metadata": {},
     "output_type": "execute_result"
    },
    {
     "data": {
      "image/png": "[encoded data removed]",
      "text/plain": [
       "<Figure size 432x288 with 1 Axes>"
      ]
     },
     "metadata": {
      "needs_background": "light"
     },
     "output_type": "display_data"
    }
   ],
   "source": [
    "plt.hist(sample,bins=10, density = True)\n",
    "plt.plot(values, probabilities)"
   ]
  },
  {
   "cell_type": "code",
   "execution_count": 34,
   "id": "c966b39d",
   "metadata": {},
   "outputs": [
    {
     "name": "stderr",
     "output_type": "stream",
     "text": [
      "C:\\Users\\HP\\AppData\\Local\\Temp\\ipykernel_5232\\1482356190.py:2: UserWarning: \n",
      "\n",
      "`distplot` is a deprecated function and will be removed in seaborn v0.14.0.\n",
      "\n",
      "Please adapt your code to use either `displot` (a figure-level function with\n",
      "similar flexibility) or `histplot` (an axes-level function for histograms).\n",
      "\n",
      "For a guide to updating your code to use the new functions, please see\n",
      "https://gist.github.com/mwaskom/de44147ed2974457ad6372750bbe5751\n",
      "\n",
      "  sns.distplot(sample)\n"
     ]
    },
    {
     "data": {
      "text/plain": [
       "<Axes: ylabel='Density'>"
      ]
     },
     "execution_count": 34,
     "metadata": {},
     "output_type": "execute_result"
    },
    {
     "data": {
      "image/png": "[encoded data removed]",
      "text/plain": [
       "<Figure size 432x288 with 1 Axes>"
      ]
     },
     "metadata": {
      "needs_background": "light"
     },
     "output_type": "display_data"
    }
   ],
   "source": [
    "import seaborn as sns\n",
    "sns.distplot(sample)"
   ]
  },
  {
   "cell_type": "markdown",
   "id": "fff9f811",
   "metadata": {},
   "source": [
    "# KDE"
   ]
  },
  {
   "cell_type": "code",
   "execution_count": 45,
   "id": "5988f963",
   "metadata": {},
   "outputs": [],
   "source": [
    "#generate a sample\n",
    "sample1 = normal(loc=20, scale=5, size=300)\n",
    "sample2 = normal(loc=40, scale=5, size=700)\n",
    "sample = np.hstack((sample1,sample2)) "
   ]
  },
  {
   "cell_type": "code",
   "execution_count": 46,
   "id": "587c18d2",
   "metadata": {},
   "outputs": [
    {
     "data": {
      "text/plain": [
       "array([19.64218388, 27.20272661, 18.30152817, 23.67983797, 18.12524302,\n",
       "       26.81186293, 20.01406442, 17.13138807, 23.81325173, 22.15916983,\n",
       "       16.74226963, 12.47608328, 21.38268311, 18.9516107 , 19.71007108,\n",
       "       13.2181697 , 17.77253705, 26.63644351, 25.8369715 , 26.92685723,\n",
       "       25.12816701, 13.23102657, 25.48384782, 23.09220759, 16.22136113,\n",
       "       20.74515054, 12.38830104, 22.21585143, 17.75496012, 14.30862143,\n",
       "       23.92828175, 22.73436889, 14.18206583, 15.86065761, 21.34989714,\n",
       "       14.44783686, 24.5314687 , 19.12962644, 15.6236661 , 22.88439409,\n",
       "       19.75286336, 10.23326928, 24.77212423, 22.15187662, 24.58287221,\n",
       "       18.16586326, 25.21460196, 22.45922953, 17.2664786 , 20.3304892 ,\n",
       "       20.6225296 , 25.15674106, 26.38576314, 26.35247366, 19.97981148,\n",
       "       17.82893773, 20.67567517, 16.67535446, 18.48489291, 22.9161507 ,\n",
       "       21.25838297, 14.89358076, 24.80638041, 10.08137547, 24.18459647,\n",
       "       15.13391275, 20.44622154, 16.32262009, 20.1240001 , 15.05521041,\n",
       "       16.99070951, 15.8964743 , 16.50758731, 23.61247965, 18.72936718,\n",
       "       15.39403189, 31.13275736, 18.93456731, 20.19527996, 22.83003251,\n",
       "       29.26991912, 24.13818092, 13.05210241, 13.50676274, 22.70422562,\n",
       "       18.55932446, 22.5633346 , 14.08622897, 24.64624871, 16.61389541,\n",
       "        9.16378132, 15.48637961, 15.03407641, 21.73679988, 27.99607255,\n",
       "       22.69755366, 12.03668062, 19.1686194 , 21.58324113, 18.45122946,\n",
       "       21.26366715, 12.71779155, 23.12494999, 27.57102109, 14.26271899,\n",
       "       21.0716629 , 22.27171827, 18.20384786, 25.38976366, 20.87818027,\n",
       "        9.44093394, 17.08825865, 28.29520274, 19.12826003, 20.91923408,\n",
       "       18.24551329, 12.56930291, 18.6047641 , 22.20496099, 16.96204756,\n",
       "       21.7377594 , 17.86935055, 27.94411677, 16.37934285, 21.63521732,\n",
       "       20.83995395, 18.99318946, 17.66209667, 17.52658904, 18.41827108,\n",
       "       21.98826539, 12.07199782, 23.49127978, 25.07795408,  6.55550637,\n",
       "       17.64857966, 16.19976196, 13.62712268, 16.02410365, 21.1312939 ,\n",
       "       19.48284248, 23.67387617, 26.20446848, 24.30985912, 17.22245668,\n",
       "       24.46964368, 14.4981477 , 18.30392781, 29.27314626, 16.88580895,\n",
       "       22.78685042, 24.93624219, 22.32182347, 23.92107684,  6.74499335,\n",
       "       16.02271598, 19.69556943, 22.75694671, 19.71100299, 16.99137463,\n",
       "       20.43423775, 15.68580177, 12.247554  , 19.84732228, 20.56072411,\n",
       "       21.82841247, 14.7962692 , 19.40462012, 17.16752982, 20.89155046,\n",
       "       26.1021135 , 26.60807012, 17.09376035, 26.11641321, 18.50044197,\n",
       "       18.29651356, 19.88208677, 16.00218174, 28.07925959, 23.94145242,\n",
       "       12.36250528, 20.26178932, 19.6092054 , 17.08618658, 18.39562095,\n",
       "       19.92687516, 21.14788548, 15.9217323 , 16.61407189, 22.09687137,\n",
       "       28.57333898, 27.45024634, 21.82047845, 16.81237168, 18.97400398,\n",
       "       27.94558749, 20.42030539, 20.93412082, 24.99935662, 16.97512654,\n",
       "       18.95484965, 16.97363295, 16.6298269 , 26.62043946, 34.94274396,\n",
       "       11.4375343 , 17.25372751, 21.87125253, 13.41849459, 23.5282787 ,\n",
       "        9.90165528, 18.35500312, 19.8384574 , 23.79201862, 15.83830616,\n",
       "       18.64910426, 23.81222233, 26.56674307, 18.82406329, 16.82848031,\n",
       "       16.18628139, 16.77115761, 14.49438298, 16.89565921, 23.43482756,\n",
       "       16.9202836 , 22.08741933, 20.42403751, 19.35428454, 14.56893169,\n",
       "       16.30386734, 32.39276535, 21.25406873, 21.36730287, 26.3373917 ,\n",
       "       17.53341762, 25.29720787, 16.44812409, 20.50151795, 20.91839194,\n",
       "       13.96713807, 20.41336149, 21.22813392, 21.43365184, 14.80661976,\n",
       "       21.5475347 , 28.34092559, 24.41179461, 22.88347646, 27.07589819,\n",
       "       20.43247754, 19.60027987, 20.87633992, 22.26843265, 21.6857357 ,\n",
       "       11.83193143, 17.09664699, 15.96080978, 18.74234949, 13.55493567,\n",
       "       18.85711947, 21.34244735, 19.80144774, 12.83923018, 18.21466925,\n",
       "       22.72640749, 21.15420086, 21.49878338, 22.48439337, 19.64033785,\n",
       "       22.67601688, 20.50140235, 17.77535187, 24.54659376, 20.52513527,\n",
       "       18.39769916, 18.53179381, 12.45280818, 22.5839151 , 17.30117131,\n",
       "        8.75177801, 16.74079494, 17.50708379, 19.48370555, 24.80177031,\n",
       "       12.8692546 , 29.54133209, 22.1321669 , 27.16770787, 23.96329793,\n",
       "       19.83536448, 16.01860147, 23.7942633 , 15.23600918, 14.76212339,\n",
       "        7.47288921, 19.91030521,  7.20886389, 24.65727177, 21.91083005,\n",
       "       32.10881728, 38.38917452, 43.05977338, 46.89364587, 38.59610598,\n",
       "       41.01260209, 40.97468965, 38.23509771, 34.6334969 , 38.70356195,\n",
       "       33.34057361, 35.33094936, 35.9344687 , 40.07635577, 46.3506969 ,\n",
       "       45.48956911, 34.6186001 , 44.31006706, 35.27495518, 30.45414803,\n",
       "       40.8779002 , 35.6389019 , 38.05223736, 36.90182863, 43.1470519 ,\n",
       "       40.78439553, 41.85299854, 39.5854915 , 47.80057939, 38.45886758,\n",
       "       47.55502771, 36.37626079, 36.01317713, 33.27715808, 38.02783827,\n",
       "       46.04087149, 36.75510257, 42.33764497, 29.25029351, 39.6167368 ,\n",
       "       45.01322078, 35.5059956 , 41.19619288, 34.36461988, 38.62053151,\n",
       "       37.9801837 , 35.27698636, 36.10151222, 45.63092809, 38.38379471,\n",
       "       36.94746722, 37.30490766, 34.52213832, 51.37596866, 45.14569376,\n",
       "       31.46518155, 46.87721595, 47.17211668, 41.16630965, 41.68402889,\n",
       "       35.67671937, 51.37739342, 38.08546602, 39.57762238, 38.03017223,\n",
       "       35.58859143, 41.2996002 , 47.95703629, 37.11936633, 42.8888415 ,\n",
       "       35.92328208, 39.07682655, 42.89398876, 40.61005078, 38.18608582,\n",
       "       46.36248583, 40.30191606, 33.74983709, 42.49084022, 37.49947408,\n",
       "       37.9010341 , 38.98810475, 36.63695462, 45.75759121, 36.85852177,\n",
       "       41.57909575, 38.20404859, 42.59864183, 38.100395  , 38.27792373,\n",
       "       28.77094482, 40.80815291, 40.99287374, 38.69477009, 29.29230658,\n",
       "       39.61743094, 38.26622378, 40.2592259 , 42.73225144, 40.13112933,\n",
       "       49.4078995 , 41.25702119, 33.54163384, 37.25641725, 40.02513976,\n",
       "       39.56456068, 35.42817616, 38.27627374, 41.7408296 , 46.11162568,\n",
       "       49.61215653, 26.22366604, 44.84222053, 39.1810896 , 41.94673839,\n",
       "       45.26621867, 34.79470168, 43.19091173, 29.43263522, 42.10023286,\n",
       "       46.12626333, 43.7950949 , 49.134837  , 27.69206325, 29.90874267,\n",
       "       40.22408974, 36.74663955, 42.01878741, 43.66166832, 50.33842203,\n",
       "       32.5938023 , 34.48427889, 38.49998046, 46.30512132, 33.00305205,\n",
       "       40.22947228, 43.64971422, 38.4241252 , 33.491981  , 40.07592187,\n",
       "       40.21078252, 36.78753512, 44.73766979, 36.42459653, 44.68582882,\n",
       "       39.81384551, 41.88909294, 31.53631934, 40.69505839, 44.29093185,\n",
       "       40.40760863, 47.24679427, 41.25344478, 33.3812264 , 41.40270209,\n",
       "       38.52033195, 41.15297247, 33.88569979, 41.11415169, 33.53000149,\n",
       "       32.90501962, 41.54173797, 42.95929682, 31.87714256, 38.78940227,\n",
       "       52.72090211, 32.06736924, 43.55449976, 41.29546728, 35.72382064,\n",
       "       34.11333433, 34.58753373, 42.94707033, 43.38284632, 47.20069056,\n",
       "       31.63183218, 45.4877205 , 45.09713371, 37.41683682, 37.9590653 ,\n",
       "       35.82166689, 49.00870577, 46.97100271, 41.44928412, 35.00626627,\n",
       "       40.64661935, 38.06454296, 33.66674904, 38.71212288, 36.22192425,\n",
       "       34.8292161 , 38.87048745, 45.60405864, 32.65172817, 43.61867325,\n",
       "       40.46320309, 44.92563811, 37.74827649, 45.32924961, 43.34884598,\n",
       "       34.43923759, 39.16752412, 38.28541211, 35.63519507, 36.548664  ,\n",
       "       39.75378587, 46.48244975, 38.11612117, 38.55965303, 35.77704957,\n",
       "       43.0316096 , 44.1130154 , 43.00210871, 44.85874195, 37.05692058,\n",
       "       43.08041248, 35.8117389 , 42.85820191, 46.74586714, 36.71591862,\n",
       "       31.36641499, 30.4059835 , 43.03355035, 48.76872087, 34.11074046,\n",
       "       38.7097    , 45.35245806, 38.08254342, 35.99443153, 37.79736901,\n",
       "       37.0054361 , 38.44720876, 38.47197022, 38.41840835, 41.31263127,\n",
       "       37.15068289, 34.5950312 , 43.31847518, 44.62341741, 38.97600138,\n",
       "       38.50357149, 47.32793378, 36.85973925, 42.58308404, 36.22541555,\n",
       "       37.71979139, 33.63238882, 42.42349921, 44.23430207, 28.45057221,\n",
       "       40.71802188, 38.56907906, 47.147833  , 36.26466776, 42.75944325,\n",
       "       38.59371784, 41.496916  , 38.02230751, 43.9027093 , 48.1928064 ,\n",
       "       42.6969155 , 31.7102208 , 32.87375856, 34.37447054, 49.79611692,\n",
       "       39.23088617, 41.26550642, 42.34087971, 32.27759545, 39.89256592,\n",
       "       36.22676502, 43.55384429, 40.19515333, 38.71380821, 29.94023129,\n",
       "       36.53800445, 41.93759619, 43.5145167 , 39.67858974, 38.25491555,\n",
       "       36.28510781, 42.72341446, 50.18359932, 41.96020749, 46.14352612,\n",
       "       49.207685  , 54.78037521, 41.26564353, 31.21156398, 34.53917017,\n",
       "       37.25427587, 40.15670591, 38.69136688, 38.52007823, 40.1453091 ,\n",
       "       44.32008439, 47.43947653, 50.24656726, 33.10112929, 31.51176075,\n",
       "       34.19246992, 46.34170491, 37.95468153, 33.36373773, 43.70909417,\n",
       "       40.84958151, 42.58728459, 42.43022554, 38.64630835, 40.87058736,\n",
       "       44.9475111 , 34.86536892, 38.60984533, 38.62030857, 33.27894777,\n",
       "       36.78762764, 43.35545271, 32.45362663, 39.65048145, 42.6226088 ,\n",
       "       36.90390085, 36.77689595, 46.77291064, 39.6560729 , 40.35044353,\n",
       "       34.56536501, 39.07566874, 35.41981429, 44.03287988, 43.52140486,\n",
       "       39.93167485, 38.00924119, 42.76414881, 28.37903992, 43.51010159,\n",
       "       38.71097155, 41.43183006, 38.51887176, 42.45849346, 41.64875053,\n",
       "       40.3827639 , 39.40669961, 36.79986011, 40.99971886, 40.78126246,\n",
       "       46.60803794, 38.1582487 , 37.27571199, 41.05032459, 35.23928025,\n",
       "       49.06729919, 42.8161032 , 45.33596781, 41.46866512, 46.5939781 ,\n",
       "       37.71681791, 37.77379536, 34.78486143, 40.90961857, 36.00886824,\n",
       "       37.50850265, 36.7398892 , 39.94793906, 42.72829391, 46.0977222 ,\n",
       "       35.76926538, 39.36649183, 41.50921286, 36.46477741, 42.60065812,\n",
       "       48.35325066, 31.64297799, 34.31017797, 37.26155222, 44.66242674,\n",
       "       41.86260079, 34.61004773, 36.57045192, 44.01160137, 34.09350967,\n",
       "       36.22392627, 42.0060461 , 46.83578656, 33.47966245, 46.2207812 ,\n",
       "       36.21925329, 42.61007518, 41.02294985, 39.13244706, 50.27800839,\n",
       "       43.63047758, 40.68907519, 45.29162901, 37.87676635, 36.91082673,\n",
       "       35.16916304, 38.35086581, 40.72595003, 41.72022942, 36.84252063,\n",
       "       28.50059887, 42.4681205 , 39.48632514, 41.89441865, 33.52140426,\n",
       "       39.72212917, 40.37281311, 34.76304462, 44.6071065 , 35.63122229,\n",
       "       50.164759  , 43.55422936, 41.96595384, 46.97275449, 39.18973931,\n",
       "       37.44926039, 45.03103167, 30.28243398, 32.36491817, 30.12910577,\n",
       "       35.52239078, 30.47338035, 42.90134014, 40.59962038, 41.29974734,\n",
       "       35.5615626 , 46.01225313, 40.2343489 , 35.20363768, 38.48622084,\n",
       "       38.33585716, 43.59392419, 43.85494021, 35.29187259, 43.58689147,\n",
       "       46.68557698, 45.54886662, 44.88098877, 47.15254257, 43.01300929,\n",
       "       38.51431963, 39.36881445, 38.15984613, 42.48413439, 47.50197804,\n",
       "       34.36123058, 42.75609326, 38.53761352, 36.83008769, 35.30483063,\n",
       "       38.7074451 , 34.9960912 , 36.99920585, 34.43512766, 45.6730231 ,\n",
       "       39.50731398, 44.40067565, 39.80087792, 34.98623471, 36.82756729,\n",
       "       39.66667085, 45.46967503, 39.31799092, 36.78180285, 41.42835675,\n",
       "       43.93602623, 32.05441319, 36.98682132, 50.90800527, 39.57340658,\n",
       "       46.36909229, 42.20008788, 35.06647295, 40.38192248, 39.49104104,\n",
       "       35.10855815, 40.92328969, 37.58478067, 32.79233732, 37.63964177,\n",
       "       46.31308607, 35.64685323, 40.03157438, 37.20414404, 36.01730395,\n",
       "       43.43699306, 34.00543424, 38.97999883, 38.92862607, 46.63229613,\n",
       "       45.81778732, 34.05944028, 38.6963834 , 41.51607245, 30.07883126,\n",
       "       49.44140064, 43.18177003, 33.27332016, 43.08584576, 41.58061106,\n",
       "       43.16320841, 34.60707699, 35.45401645, 43.38855683, 42.45219969,\n",
       "       37.48941485, 47.35650863, 37.09221348, 40.15263711, 41.76206501,\n",
       "       38.11867759, 28.21893304, 29.45939496, 36.53778613, 43.87401832,\n",
       "       37.56102047, 46.52017783, 33.42772368, 44.21174913, 36.04665935,\n",
       "       37.85508397, 32.62628176, 31.92508451, 40.29950387, 41.71708332,\n",
       "       46.74601694, 27.85412813, 40.56015458, 30.78682755, 41.80479987,\n",
       "       43.86753646, 45.07578146, 38.79951234, 33.64129975, 37.40360624,\n",
       "       45.18776258, 30.66477632, 42.15253121, 43.77515879, 34.41223035,\n",
       "       42.27920218, 50.22099067, 34.49914857, 38.75683304, 42.00773712,\n",
       "       46.15765005, 46.66202547, 44.92346016, 43.9579621 , 34.5528741 ,\n",
       "       40.43526328, 50.04394577, 44.58669196, 32.17395701, 35.4944646 ,\n",
       "       44.30539128, 36.48977236, 44.94360996, 45.99077454, 48.43060414,\n",
       "       46.83125928, 41.94995239, 30.77157536, 46.30230439, 38.4477163 ,\n",
       "       41.08396919, 33.84818599, 36.61390544, 49.73331588, 32.44025591,\n",
       "       36.00492171, 38.95733727, 49.03978799, 40.1595859 , 39.62805869,\n",
       "       32.75470346, 35.98924147, 47.70680432, 35.15784686, 35.01556538,\n",
       "       28.46766809, 42.84670589, 47.35205275, 32.90570718, 36.02558563,\n",
       "       41.28140099, 30.32547847, 39.28215937, 39.84514062, 44.3596194 ,\n",
       "       50.56347471, 39.13368999, 38.22397983, 42.56123398, 39.39626335,\n",
       "       38.78830758, 38.77192882, 38.90124297, 39.33598483, 42.74871352,\n",
       "       34.08043324, 26.49029437, 40.02849649, 39.12643428, 41.97287668,\n",
       "       41.43051547, 42.10987403, 45.31514271, 39.81246172, 41.71877653,\n",
       "       44.11827888, 31.9086605 , 31.80832186, 41.836706  , 40.01797502,\n",
       "       37.60485692, 42.34410252, 39.99617575, 34.93148727, 42.46912273,\n",
       "       46.71372258, 38.52651163, 34.62826923, 31.92143995, 39.40676669,\n",
       "       40.2313234 , 30.56431254, 30.55312488, 44.76927702, 33.00456893,\n",
       "       32.19833968, 29.95154187, 39.9752529 , 38.32837134, 41.89243756,\n",
       "       33.85831769, 43.56366784, 40.06468484, 39.44472542, 37.54204336,\n",
       "       49.04941408, 31.54723772, 39.56065893, 41.70218292, 39.38082962,\n",
       "       36.95923144, 42.73868691, 40.02840002, 56.95101289, 36.53792399,\n",
       "       45.29538252, 33.93009282, 40.21037402, 45.85541444, 33.54885084,\n",
       "       41.89696173, 43.28342285, 41.19132906, 39.36153536, 44.64091569,\n",
       "       50.79368002, 42.6556326 , 35.41908164, 40.65680515, 38.11014646,\n",
       "       41.50363048, 43.85738922, 40.58889185, 40.22748795, 40.25127136,\n",
       "       36.12342622, 37.42334408, 44.79978901, 37.91922239, 43.16501726,\n",
       "       40.67142916, 37.66278227, 39.43968596, 35.78648972, 41.89081766,\n",
       "       40.12382775, 37.17933574, 48.1402735 , 34.87285104, 40.86306941,\n",
       "       34.79846445, 40.04841327, 46.46885184, 39.74877835, 46.94648   ,\n",
       "       39.07813595, 35.89381523, 33.65320525, 36.41714476, 37.67469613,\n",
       "       46.71710466, 33.0174908 , 40.75397412, 38.09943475, 55.47044677])"
      ]
     },
     "execution_count": 46,
     "metadata": {},
     "output_type": "execute_result"
    }
   ],
   "source": [
    "sample"
   ]
  },
  {
   "cell_type": "code",
   "execution_count": 47,
   "id": "afcfc84c",
   "metadata": {},
   "outputs": [
    {
     "data": {
      "text/plain": [
       "(array([ 4.,  0.,  3.,  3.,  1.,  9.,  9., 10., 11., 21., 27., 26., 20.,\n",
       "        28., 26., 23., 18., 18., 12., 13.,  8., 13.,  8., 13., 12., 19.,\n",
       "        26., 32., 40., 43., 44., 73., 50., 55., 49., 51., 42., 29., 29.,\n",
       "        31., 18.,  6., 11.,  9.,  3.,  1.,  0.,  1.,  1.,  1.]),\n",
       " array([ 6.55550637,  7.56341651,  8.57132664,  9.57923677, 10.5871469 ,\n",
       "        11.59505703, 12.60296716, 13.61087729, 14.61878742, 15.62669755,\n",
       "        16.63460768, 17.64251781, 18.65042794, 19.65833807, 20.6662482 ,\n",
       "        21.67415833, 22.68206846, 23.68997859, 24.69788872, 25.70579885,\n",
       "        26.71370898, 27.72161911, 28.72952924, 29.73743937, 30.7453495 ,\n",
       "        31.75325963, 32.76116977, 33.7690799 , 34.77699003, 35.78490016,\n",
       "        36.79281029, 37.80072042, 38.80863055, 39.81654068, 40.82445081,\n",
       "        41.83236094, 42.84027107, 43.8481812 , 44.85609133, 45.86400146,\n",
       "        46.87191159, 47.87982172, 48.88773185, 49.89564198, 50.90355211,\n",
       "        51.91146224, 52.91937237, 53.9272825 , 54.93519263, 55.94310276,\n",
       "        56.95101289]),\n",
       " <BarContainer object of 50 artists>)"
      ]
     },
     "execution_count": 47,
     "metadata": {},
     "output_type": "execute_result"
    },
    {
     "data": {
      "image/png": "[encoded data removed]",
      "text/plain": [
       "<Figure size 432x288 with 1 Axes>"
      ]
     },
     "metadata": {
      "needs_background": "light"
     },
     "output_type": "display_data"
    }
   ],
   "source": [
    "#plot histogram\n",
    "plt.hist(sample,bins=50)"
   ]
  },
  {
   "cell_type": "code",
   "execution_count": 48,
   "id": "31c4f735",
   "metadata": {},
   "outputs": [
    {
     "data": {
      "text/html": [
       "<style>#sk-container-id-2 {color: black;background-color: white;}#sk-container-id-2 pre{padding: 0;}#sk-container-id-2 div.sk-toggleable {background-color: white;}#sk-container-id-2 label.sk-toggleable__label {cursor: pointer;display: block;width: 100%;margin-bottom: 0;padding: 0.3em;box-sizing: border-box;text-align: center;}#sk-container-id-2 label.sk-toggleable__label-arrow:before {content: \"▸\";float: left;margin-right: 0.25em;color: #696969;}#sk-container-id-2 label.sk-toggleable__label-arrow:hover:before {color: black;}#sk-container-id-2 div.sk-estimator:hover label.sk-toggleable__label-arrow:before {color: black;}#sk-container-id-2 div.sk-toggleable__content {max-height: 0;max-width: 0;overflow: hidden;text-align: left;background-color: #f0f8ff;}#sk-container-id-2 div.sk-toggleable__content pre {margin: 0.2em;color: black;border-radius: 0.25em;background-color: #f0f8ff;}#sk-container-id-2 input.sk-toggleable__control:checked~div.sk-toggleable__content {max-height: 200px;max-width: 100%;overflow: auto;}#sk-container-id-2 input.sk-toggleable__control:checked~label.sk-toggleable__label-arrow:before {content: \"▾\";}#sk-container-id-2 div.sk-estimator input.sk-toggleable__control:checked~label.sk-toggleable__label {background-color: #d4ebff;}#sk-container-id-2 div.sk-label input.sk-toggleable__control:checked~label.sk-toggleable__label {background-color: #d4ebff;}#sk-container-id-2 input.sk-hidden--visually {border: 0;clip: rect(1px 1px 1px 1px);clip: rect(1px, 1px, 1px, 1px);height: 1px;margin: -1px;overflow: hidden;padding: 0;position: absolute;width: 1px;}#sk-container-id-2 div.sk-estimator {font-family: monospace;background-color: #f0f8ff;border: 1px dotted black;border-radius: 0.25em;box-sizing: border-box;margin-bottom: 0.5em;}#sk-container-id-2 div.sk-estimator:hover {background-color: #d4ebff;}#sk-container-id-2 div.sk-parallel-item::after {content: \"\";width: 100%;border-bottom: 1px solid gray;flex-grow: 1;}#sk-container-id-2 div.sk-label:hover label.sk-toggleable__label {background-color: #d4ebff;}#sk-container-id-2 div.sk-serial::before {content: \"\";position: absolute;border-left: 1px solid gray;box-sizing: border-box;top: 0;bottom: 0;left: 50%;z-index: 0;}#sk-container-id-2 div.sk-serial {display: flex;flex-direction: column;align-items: center;background-color: white;padding-right: 0.2em;padding-left: 0.2em;position: relative;}#sk-container-id-2 div.sk-item {position: relative;z-index: 1;}#sk-container-id-2 div.sk-parallel {display: flex;align-items: stretch;justify-content: center;background-color: white;position: relative;}#sk-container-id-2 div.sk-item::before, #sk-container-id-2 div.sk-parallel-item::before {content: \"\";position: absolute;border-left: 1px solid gray;box-sizing: border-box;top: 0;bottom: 0;left: 50%;z-index: -1;}#sk-container-id-2 div.sk-parallel-item {display: flex;flex-direction: column;z-index: 1;position: relative;background-color: white;}#sk-container-id-2 div.sk-parallel-item:first-child::after {align-self: flex-end;width: 50%;}#sk-container-id-2 div.sk-parallel-item:last-child::after {align-self: flex-start;width: 50%;}#sk-container-id-2 div.sk-parallel-item:only-child::after {width: 0;}#sk-container-id-2 div.sk-dashed-wrapped {border: 1px dashed gray;margin: 0 0.4em 0.5em 0.4em;box-sizing: border-box;padding-bottom: 0.4em;background-color: white;}#sk-container-id-2 div.sk-label label {font-family: monospace;font-weight: bold;display: inline-block;line-height: 1.2em;}#sk-container-id-2 div.sk-label-container {text-align: center;}#sk-container-id-2 div.sk-container {/* jupyter's `normalize.less` sets `[hidden] { display: none; }` but bootstrap.min.css set `[hidden] { display: none !important; }` so we also need the `!important` here to be able to override the default hidden behavior on the sphinx rendered scikit-learn.org. See: https://github.com/scikit-learn/scikit-learn/issues/21755 */display: inline-block !important;position: relative;}#sk-container-id-2 div.sk-text-repr-fallback {display: none;}</style><div id=\"sk-container-id-2\" class=\"sk-top-container\"><div class=\"sk-text-repr-fallback\"><pre>KernelDensity(bandwidth=3)</pre><b>In a Jupyter environment, please rerun this cell to show the HTML representation or trust the notebook. <br />On GitHub, the HTML representation is unable to render, please try loading this page with nbviewer.org.</b></div><div class=\"sk-container\" hidden><div class=\"sk-item\"><div class=\"sk-estimator sk-toggleable\"><input class=\"sk-toggleable__control sk-hidden--visually\" id=\"sk-estimator-id-2\" type=\"checkbox\" checked><label for=\"sk-estimator-id-2\" class=\"sk-toggleable__label sk-toggleable__label-arrow\">KernelDensity</label><div class=\"sk-toggleable__content\"><pre>KernelDensity(bandwidth=3)</pre></div></div></div></div></div>"
      ],
      "text/plain": [
       "KernelDensity(bandwidth=3)"
      ]
     },
     "execution_count": 48,
     "metadata": {},
     "output_type": "execute_result"
    }
   ],
   "source": [
    "from sklearn.neighbors import KernelDensity\n",
    "\n",
    "model = KernelDensity(bandwidth=3, kernel='gaussian')\n",
    "\n",
    "#convert data to a 2d array\n",
    "sample = sample.reshape((len(sample),1))\n",
    "\n",
    "model.fit(sample)"
   ]
  },
  {
   "cell_type": "code",
   "execution_count": 49,
   "id": "2d921f26",
   "metadata": {},
   "outputs": [],
   "source": [
    "values = np.linspace(sample.min(),sample.max(),100)\n",
    "values = values.reshape((len(values),1))"
   ]
  },
  {
   "cell_type": "code",
   "execution_count": 50,
   "id": "2967804d",
   "metadata": {},
   "outputs": [],
   "source": [
    "probabilities = model.score_samples(values)\n",
    "proabilities = np.exp(probabilities)"
   ]
  },
  {
   "cell_type": "code",
   "execution_count": 52,
   "id": "cc2669cd",
   "metadata": {},
   "outputs": [
    {
     "data": {
      "image/png": "[encoded data removed]",
      "text/plain": [
       "<Figure size 432x288 with 1 Axes>"
      ]
     },
     "metadata": {
      "needs_background": "light"
     },
     "output_type": "display_data"
    }
   ],
   "source": [
    "plt.hist(sample, bins=10, density=True)\n",
    "plt.plot(values[:], probabilities)\n",
    "plt.show()"
   ]
  },
  {
   "cell_type": "code",
   "execution_count": 57,
   "id": "36aad390",
   "metadata": {},
   "outputs": [
    {
     "data": {
      "text/plain": [
       "<Axes: ylabel='Density'>"
      ]
     },
     "execution_count": 57,
     "metadata": {},
     "output_type": "execute_result"
    },
    {
     "data": {
      "image/png": "[encoded data removed]",
      "text/plain": [
       "<Figure size 432x288 with 1 Axes>"
      ]
     },
     "metadata": {
      "needs_background": "light"
     },
     "output_type": "display_data"
    }
   ],
   "source": [
    "sns.kdeplot(sample.reshape(1000),bw_adjust=2)"
   ]
  },
  {
   "cell_type": "markdown",
   "id": "a46fb943",
   "metadata": {},
   "source": [
    "# How to use PDF in Data Science"
   ]
  },
  {
   "cell_type": "code",
   "execution_count": 58,
   "id": "8f51b820",
   "metadata": {},
   "outputs": [],
   "source": [
    "import seaborn as sns"
   ]
  },
  {
   "cell_type": "code",
   "execution_count": 59,
   "id": "7857b0f3",
   "metadata": {},
   "outputs": [],
   "source": [
    "df = sns.load_dataset('iris')"
   ]
  },
  {
   "cell_type": "code",
   "execution_count": 60,
   "id": "1cf316e1",
   "metadata": {},
   "outputs": [
    {
     "data": {
      "text/html": [
       "<div>\n",
       "<style scoped>\n",
       "    .dataframe tbody tr th:only-of-type {\n",
       "        vertical-align: middle;\n",
       "    }\n",
       "\n",
       "    .dataframe tbody tr th {\n",
       "        vertical-align: top;\n",
       "    }\n",
       "\n",
       "    .dataframe thead th {\n",
       "        text-align: right;\n",
       "    }\n",
       "</style>\n",
       "<table border=\"1\" class=\"dataframe\">\n",
       "  <thead>\n",
       "    <tr style=\"text-align: right;\">\n",
       "      <th></th>\n",
       "      <th>sepal_length</th>\n",
       "      <th>sepal_width</th>\n",
       "      <th>petal_length</th>\n",
       "      <th>petal_width</th>\n",
       "      <th>species</th>\n",
       "    </tr>\n",
       "  </thead>\n",
       "  <tbody>\n",
       "    <tr>\n",
       "      <th>0</th>\n",
       "      <td>5.1</td>\n",
       "      <td>3.5</td>\n",
       "      <td>1.4</td>\n",
       "      <td>0.2</td>\n",
       "      <td>setosa</td>\n",
       "    </tr>\n",
       "    <tr>\n",
       "      <th>1</th>\n",
       "      <td>4.9</td>\n",
       "      <td>3.0</td>\n",
       "      <td>1.4</td>\n",
       "      <td>0.2</td>\n",
       "      <td>setosa</td>\n",
       "    </tr>\n",
       "    <tr>\n",
       "      <th>2</th>\n",
       "      <td>4.7</td>\n",
       "      <td>3.2</td>\n",
       "      <td>1.3</td>\n",
       "      <td>0.2</td>\n",
       "      <td>setosa</td>\n",
       "    </tr>\n",
       "    <tr>\n",
       "      <th>3</th>\n",
       "      <td>4.6</td>\n",
       "      <td>3.1</td>\n",
       "      <td>1.5</td>\n",
       "      <td>0.2</td>\n",
       "      <td>setosa</td>\n",
       "    </tr>\n",
       "    <tr>\n",
       "      <th>4</th>\n",
       "      <td>5.0</td>\n",
       "      <td>3.6</td>\n",
       "      <td>1.4</td>\n",
       "      <td>0.2</td>\n",
       "      <td>setosa</td>\n",
       "    </tr>\n",
       "  </tbody>\n",
       "</table>\n",
       "</div>"
      ],
      "text/plain": [
       "   sepal_length  sepal_width  petal_length  petal_width species\n",
       "0           5.1          3.5           1.4          0.2  setosa\n",
       "1           4.9          3.0           1.4          0.2  setosa\n",
       "2           4.7          3.2           1.3          0.2  setosa\n",
       "3           4.6          3.1           1.5          0.2  setosa\n",
       "4           5.0          3.6           1.4          0.2  setosa"
      ]
     },
     "execution_count": 60,
     "metadata": {},
     "output_type": "execute_result"
    }
   ],
   "source": [
    "df.head()"
   ]
  },
  {
   "cell_type": "code",
   "execution_count": 70,
   "id": "29f9f3ff",
   "metadata": {},
   "outputs": [
    {
     "data": {
      "text/plain": [
       "<Axes: xlabel='petal_length', ylabel='Density'>"
      ]
     },
     "execution_count": 70,
     "metadata": {},
     "output_type": "execute_result"
    },
    {
     "data": {
      "image/png": "[encoded data removed]",
      "text/plain": [
       "<Figure size 432x288 with 1 Axes>"
      ]
     },
     "metadata": {
      "needs_background": "light"
     },
     "output_type": "display_data"
    }
   ],
   "source": [
    "sns.kdeplot(data=df, x='sepal_length', hue='species')"
   ]
  },
  {
   "cell_type": "code",
   "execution_count": 71,
   "id": "df212ba7",
   "metadata": {},
   "outputs": [
    {
     "data": {
      "text/plain": [
       "<Axes: xlabel='sepal_width', ylabel='Density'>"
      ]
     },
     "execution_count": 71,
     "metadata": {},
     "output_type": "execute_result"
    },
    {
     "data": {
      "image/png": "[encoded data removed]",
      "text/plain": [
       "<Figure size 432x288 with 1 Axes>"
      ]
     },
     "metadata": {
      "needs_background": "light"
     },
     "output_type": "display_data"
    }
   ],
   "source": [
    "sns.kdeplot(data=df, x='sepal_width', hue='species')"
   ]
  },
  {
   "cell_type": "code",
   "execution_count": 72,
   "id": "bdc50867",
   "metadata": {},
   "outputs": [
    {
     "data": {
      "text/plain": [
       "<Axes: xlabel='petal_width', ylabel='Density'>"
      ]
     },
     "execution_count": 72,
     "metadata": {},
     "output_type": "execute_result"
    },
    {
     "data": {
      "image/png": "[encoded data removed]",
      "text/plain": [
       "<Figure size 432x288 with 1 Axes>"
      ]
     },
     "metadata": {
      "needs_background": "light"
     },
     "output_type": "display_data"
    }
   ],
   "source": [
    "sns.kdeplot(data=df, x='petal_width', hue='species')"
   ]
  },
  {
   "cell_type": "code",
   "execution_count": 73,
   "id": "52f75c45",
   "metadata": {},
   "outputs": [
    {
     "data": {
      "text/plain": [
       "<Axes: xlabel='petal_length', ylabel='Density'>"
      ]
     },
     "execution_count": 73,
     "metadata": {},
     "output_type": "execute_result"
    },
    {
     "data": {
      "image/png": "[encoded data removed]",
      "text/plain": [
       "<Figure size 432x288 with 1 Axes>"
      ]
     },
     "metadata": {
      "needs_background": "light"
     },
     "output_type": "display_data"
    }
   ],
   "source": [
    "sns.kdeplot(data=df, x='petal_length', hue='species')"
   ]
  },
  {
   "cell_type": "code",
   "execution_count": 74,
   "id": "98286096",
   "metadata": {},
   "outputs": [],
   "source": [
    "titanic = pd.read_csv('train.csv')"
   ]
  },
  {
   "cell_type": "code",
   "execution_count": 75,
   "id": "2270dc67",
   "metadata": {},
   "outputs": [
    {
     "data": {
      "text/html": [
       "<div>\n",
       "<style scoped>\n",
       "    .dataframe tbody tr th:only-of-type {\n",
       "        vertical-align: middle;\n",
       "    }\n",
       "\n",
       "    .dataframe tbody tr th {\n",
       "        vertical-align: top;\n",
       "    }\n",
       "\n",
       "    .dataframe thead th {\n",
       "        text-align: right;\n",
       "    }\n",
       "</style>\n",
       "<table border=\"1\" class=\"dataframe\">\n",
       "  <thead>\n",
       "    <tr style=\"text-align: right;\">\n",
       "      <th></th>\n",
       "      <th>PassengerId</th>\n",
       "      <th>Survived</th>\n",
       "      <th>Pclass</th>\n",
       "      <th>Name</th>\n",
       "      <th>Sex</th>\n",
       "      <th>Age</th>\n",
       "      <th>SibSp</th>\n",
       "      <th>Parch</th>\n",
       "      <th>Ticket</th>\n",
       "      <th>Fare</th>\n",
       "      <th>Cabin</th>\n",
       "      <th>Embarked</th>\n",
       "    </tr>\n",
       "  </thead>\n",
       "  <tbody>\n",
       "    <tr>\n",
       "      <th>0</th>\n",
       "      <td>1</td>\n",
       "      <td>0</td>\n",
       "      <td>3</td>\n",
       "      <td>Braund, Mr. Owen Harris</td>\n",
       "      <td>male</td>\n",
       "      <td>22.0</td>\n",
       "      <td>1</td>\n",
       "      <td>0</td>\n",
       "      <td>A/5 21171</td>\n",
       "      <td>7.2500</td>\n",
       "      <td>NaN</td>\n",
       "      <td>S</td>\n",
       "    </tr>\n",
       "    <tr>\n",
       "      <th>1</th>\n",
       "      <td>2</td>\n",
       "      <td>1</td>\n",
       "      <td>1</td>\n",
       "      <td>Cumings, Mrs. John Bradley (Florence Briggs Th...</td>\n",
       "      <td>female</td>\n",
       "      <td>38.0</td>\n",
       "      <td>1</td>\n",
       "      <td>0</td>\n",
       "      <td>PC 17599</td>\n",
       "      <td>71.2833</td>\n",
       "      <td>C85</td>\n",
       "      <td>C</td>\n",
       "    </tr>\n",
       "    <tr>\n",
       "      <th>2</th>\n",
       "      <td>3</td>\n",
       "      <td>1</td>\n",
       "      <td>3</td>\n",
       "      <td>Heikkinen, Miss. Laina</td>\n",
       "      <td>female</td>\n",
       "      <td>26.0</td>\n",
       "      <td>0</td>\n",
       "      <td>0</td>\n",
       "      <td>STON/O2. 3101282</td>\n",
       "      <td>7.9250</td>\n",
       "      <td>NaN</td>\n",
       "      <td>S</td>\n",
       "    </tr>\n",
       "    <tr>\n",
       "      <th>3</th>\n",
       "      <td>4</td>\n",
       "      <td>1</td>\n",
       "      <td>1</td>\n",
       "      <td>Futrelle, Mrs. Jacques Heath (Lily May Peel)</td>\n",
       "      <td>female</td>\n",
       "      <td>35.0</td>\n",
       "      <td>1</td>\n",
       "      <td>0</td>\n",
       "      <td>113803</td>\n",
       "      <td>53.1000</td>\n",
       "      <td>C123</td>\n",
       "      <td>S</td>\n",
       "    </tr>\n",
       "    <tr>\n",
       "      <th>4</th>\n",
       "      <td>5</td>\n",
       "      <td>0</td>\n",
       "      <td>3</td>\n",
       "      <td>Allen, Mr. William Henry</td>\n",
       "      <td>male</td>\n",
       "      <td>35.0</td>\n",
       "      <td>0</td>\n",
       "      <td>0</td>\n",
       "      <td>373450</td>\n",
       "      <td>8.0500</td>\n",
       "      <td>NaN</td>\n",
       "      <td>S</td>\n",
       "    </tr>\n",
       "  </tbody>\n",
       "</table>\n",
       "</div>"
      ],
      "text/plain": [
       "   PassengerId  Survived  Pclass  \\\n",
       "0            1         0       3   \n",
       "1            2         1       1   \n",
       "2            3         1       3   \n",
       "3            4         1       1   \n",
       "4            5         0       3   \n",
       "\n",
       "                                                Name     Sex   Age  SibSp  \\\n",
       "0                            Braund, Mr. Owen Harris    male  22.0      1   \n",
       "1  Cumings, Mrs. John Bradley (Florence Briggs Th...  female  38.0      1   \n",
       "2                             Heikkinen, Miss. Laina  female  26.0      0   \n",
       "3       Futrelle, Mrs. Jacques Heath (Lily May Peel)  female  35.0      1   \n",
       "4                           Allen, Mr. William Henry    male  35.0      0   \n",
       "\n",
       "   Parch            Ticket     Fare Cabin Embarked  \n",
       "0      0         A/5 21171   7.2500   NaN        S  \n",
       "1      0          PC 17599  71.2833   C85        C  \n",
       "2      0  STON/O2. 3101282   7.9250   NaN        S  \n",
       "3      0            113803  53.1000  C123        S  \n",
       "4      0            373450   8.0500   NaN        S  "
      ]
     },
     "execution_count": 75,
     "metadata": {},
     "output_type": "execute_result"
    }
   ],
   "source": [
    "titanic.head()"
   ]
  },
  {
   "cell_type": "code",
   "execution_count": 76,
   "id": "61ea5ef3",
   "metadata": {},
   "outputs": [
    {
     "data": {
      "text/plain": [
       "<Axes: xlabel='Age', ylabel='Density'>"
      ]
     },
     "execution_count": 76,
     "metadata": {},
     "output_type": "execute_result"
    },
    {
     "data": {
      "image/png": "[encoded data removed]",
      "text/plain": [
       "<Figure size 432x288 with 1 Axes>"
      ]
     },
     "metadata": {
      "needs_background": "light"
     },
     "output_type": "display_data"
    }
   ],
   "source": [
    "sns.kdeplot(data=titanic, x='Age', hue = 'Survived')"
   ]
  },
  {
   "cell_type": "code",
   "execution_count": 80,
   "id": "5542a0da",
   "metadata": {},
   "outputs": [
    {
     "data": {
      "text/plain": [
       "<Axes: xlabel='petal_width', ylabel='Density'>"
      ]
     },
     "execution_count": 80,
     "metadata": {},
     "output_type": "execute_result"
    },
    {
     "data": {
      "image/png": "[encoded data removed]",
      "text/plain": [
       "<Figure size 432x288 with 1 Axes>"
      ]
     },
     "metadata": {
      "needs_background": "light"
     },
     "output_type": "display_data"
    }
   ],
   "source": [
    "sns.kdeplot(data=df, x='petal_width', hue='species') #pdf\n",
    "sns.ecdfplot(data=df, x='petal_width', hue='species') #cdf"
   ]
  },
  {
   "cell_type": "code",
   "execution_count": 82,
   "id": "88de901b",
   "metadata": {},
   "outputs": [
    {
     "data": {
      "text/plain": [
       "<seaborn.axisgrid.JointGrid at 0x1f861075e70>"
      ]
     },
     "execution_count": 82,
     "metadata": {},
     "output_type": "execute_result"
    },
    {
     "data": {
      "image/png": "[encoded data removed]",
      "text/plain": [
       "<Figure size 432x432 with 4 Axes>"
      ]
     },
     "metadata": {
      "needs_background": "light"
     },
     "output_type": "display_data"
    }
   ],
   "source": [
    "sns.jointplot(data=df, x='petal_length', y='sepal_length', kind='kde', fill=True, cbar = True) #2d densing plot"
   ]
  },
  {
   "cell_type": "markdown",
   "id": "a1f2c9fd",
   "metadata": {},
   "source": [
    "# Standard Normal Variate"
   ]
  },
  {
   "cell_type": "code",
   "execution_count": 83,
   "id": "02dec668",
   "metadata": {},
   "outputs": [
    {
     "data": {
      "text/plain": [
       "0      22.0\n",
       "1      38.0\n",
       "2      26.0\n",
       "3      35.0\n",
       "4      35.0\n",
       "       ... \n",
       "886    27.0\n",
       "887    19.0\n",
       "888     NaN\n",
       "889    26.0\n",
       "890    32.0\n",
       "Name: Age, Length: 891, dtype: float64"
      ]
     },
     "execution_count": 83,
     "metadata": {},
     "output_type": "execute_result"
    }
   ],
   "source": [
    "titanic['Age']"
   ]
  },
  {
   "cell_type": "code",
   "execution_count": 85,
   "id": "356f0beb",
   "metadata": {},
   "outputs": [
    {
     "data": {
      "text/plain": [
       "<Axes: xlabel='Age', ylabel='Density'>"
      ]
     },
     "execution_count": 85,
     "metadata": {},
     "output_type": "execute_result"
    },
    {
     "data": {
      "image/png": "[encoded data removed]",
      "text/plain": [
       "<Figure size 432x288 with 1 Axes>"
      ]
     },
     "metadata": {
      "needs_background": "light"
     },
     "output_type": "display_data"
    }
   ],
   "source": [
    "sns.kdeplot(titanic['Age'])"
   ]
  },
  {
   "cell_type": "code",
   "execution_count": 86,
   "id": "a995e4d5",
   "metadata": {},
   "outputs": [
    {
     "data": {
      "text/plain": [
       "29.69911764705882"
      ]
     },
     "execution_count": 86,
     "metadata": {},
     "output_type": "execute_result"
    }
   ],
   "source": [
    "titanic['Age'].mean()"
   ]
  },
  {
   "cell_type": "code",
   "execution_count": 87,
   "id": "d893bb09",
   "metadata": {},
   "outputs": [
    {
     "data": {
      "text/plain": [
       "14.526497332334042"
      ]
     },
     "execution_count": 87,
     "metadata": {},
     "output_type": "execute_result"
    }
   ],
   "source": [
    "titanic['Age'].std()"
   ]
  },
  {
   "cell_type": "code",
   "execution_count": 88,
   "id": "c3a2c4ce",
   "metadata": {},
   "outputs": [],
   "source": [
    "x = (titanic['Age'] - titanic['Age'].mean())/titanic['Age'].std() #standardizing"
   ]
  },
  {
   "cell_type": "code",
   "execution_count": 89,
   "id": "cfa88e45",
   "metadata": {},
   "outputs": [
    {
     "data": {
      "text/plain": [
       "<Axes: xlabel='Age', ylabel='Density'>"
      ]
     },
     "execution_count": 89,
     "metadata": {},
     "output_type": "execute_result"
    },
    {
     "data": {
      "image/png": "[encoded data removed]",
      "text/plain": [
       "<Figure size 432x288 with 1 Axes>"
      ]
     },
     "metadata": {
      "needs_background": "light"
     },
     "output_type": "display_data"
    }
   ],
   "source": [
    "sns.kdeplot(x)"
   ]
  },
  {
   "cell_type": "code",
   "execution_count": 90,
   "id": "1e06e61d",
   "metadata": {},
   "outputs": [
    {
     "data": {
      "text/plain": [
       "2.338621049070358e-16"
      ]
     },
     "execution_count": 90,
     "metadata": {},
     "output_type": "execute_result"
    }
   ],
   "source": [
    "x.mean()"
   ]
  },
  {
   "cell_type": "code",
   "execution_count": 91,
   "id": "06f6f579",
   "metadata": {},
   "outputs": [
    {
     "data": {
      "text/plain": [
       "1.0"
      ]
     },
     "execution_count": 91,
     "metadata": {},
     "output_type": "execute_result"
    }
   ],
   "source": [
    "x.std()"
   ]
  },
  {
   "cell_type": "code",
   "execution_count": 92,
   "id": "4f1d1b12",
   "metadata": {},
   "outputs": [
    {
     "data": {
      "text/plain": [
       "0.38910778230082704"
      ]
     },
     "execution_count": 92,
     "metadata": {},
     "output_type": "execute_result"
    }
   ],
   "source": [
    "titanic['Age'].skew()"
   ]
  },
  {
   "cell_type": "code",
   "execution_count": 94,
   "id": "d83c04d5",
   "metadata": {},
   "outputs": [
    {
     "data": {
      "text/plain": [
       "73.27860964406094"
      ]
     },
     "execution_count": 94,
     "metadata": {},
     "output_type": "execute_result"
    }
   ],
   "source": [
    "titanic['Age'].mean()+3*titanic['Age'].std() #outlier"
   ]
  },
  {
   "cell_type": "code",
   "execution_count": 95,
   "id": "049d6e64",
   "metadata": {},
   "outputs": [
    {
     "data": {
      "text/plain": [
       "-13.880374349943303"
      ]
     },
     "execution_count": 95,
     "metadata": {},
     "output_type": "execute_result"
    }
   ],
   "source": [
    "titanic['Age'].mean()-3*titanic['Age'].std() #outlier"
   ]
  },
  {
   "cell_type": "code",
   "execution_count": 97,
   "id": "706179fe",
   "metadata": {},
   "outputs": [
    {
     "data": {
      "text/html": [
       "<div>\n",
       "<style scoped>\n",
       "    .dataframe tbody tr th:only-of-type {\n",
       "        vertical-align: middle;\n",
       "    }\n",
       "\n",
       "    .dataframe tbody tr th {\n",
       "        vertical-align: top;\n",
       "    }\n",
       "\n",
       "    .dataframe thead th {\n",
       "        text-align: right;\n",
       "    }\n",
       "</style>\n",
       "<table border=\"1\" class=\"dataframe\">\n",
       "  <thead>\n",
       "    <tr style=\"text-align: right;\">\n",
       "      <th></th>\n",
       "      <th>PassengerId</th>\n",
       "      <th>Survived</th>\n",
       "      <th>Pclass</th>\n",
       "      <th>Name</th>\n",
       "      <th>Sex</th>\n",
       "      <th>Age</th>\n",
       "      <th>SibSp</th>\n",
       "      <th>Parch</th>\n",
       "      <th>Ticket</th>\n",
       "      <th>Fare</th>\n",
       "      <th>Cabin</th>\n",
       "      <th>Embarked</th>\n",
       "    </tr>\n",
       "  </thead>\n",
       "  <tbody>\n",
       "    <tr>\n",
       "      <th>630</th>\n",
       "      <td>631</td>\n",
       "      <td>1</td>\n",
       "      <td>1</td>\n",
       "      <td>Barkworth, Mr. Algernon Henry Wilson</td>\n",
       "      <td>male</td>\n",
       "      <td>80.0</td>\n",
       "      <td>0</td>\n",
       "      <td>0</td>\n",
       "      <td>27042</td>\n",
       "      <td>30.000</td>\n",
       "      <td>A23</td>\n",
       "      <td>S</td>\n",
       "    </tr>\n",
       "    <tr>\n",
       "      <th>851</th>\n",
       "      <td>852</td>\n",
       "      <td>0</td>\n",
       "      <td>3</td>\n",
       "      <td>Svensson, Mr. Johan</td>\n",
       "      <td>male</td>\n",
       "      <td>74.0</td>\n",
       "      <td>0</td>\n",
       "      <td>0</td>\n",
       "      <td>347060</td>\n",
       "      <td>7.775</td>\n",
       "      <td>NaN</td>\n",
       "      <td>S</td>\n",
       "    </tr>\n",
       "  </tbody>\n",
       "</table>\n",
       "</div>"
      ],
      "text/plain": [
       "     PassengerId  Survived  Pclass                                  Name  \\\n",
       "630          631         1       1  Barkworth, Mr. Algernon Henry Wilson   \n",
       "851          852         0       3                   Svensson, Mr. Johan   \n",
       "\n",
       "      Sex   Age  SibSp  Parch  Ticket    Fare Cabin Embarked  \n",
       "630  male  80.0      0      0   27042  30.000   A23        S  \n",
       "851  male  74.0      0      0  347060   7.775   NaN        S  "
      ]
     },
     "execution_count": 97,
     "metadata": {},
     "output_type": "execute_result"
    }
   ],
   "source": [
    "titanic[(titanic['Age'] > 73)] #outlier"
   ]
  },
  {
   "cell_type": "code",
   "execution_count": null,
   "id": "3d9e4a12",
   "metadata": {},
   "outputs": [],
   "source": []
  }
 ],
 "metadata": {
  "kernelspec": {
   "display_name": "Python 3 (ipykernel)",
   "language": "python",
   "name": "python3"
  },
  "language_info": {
   "codemirror_mode": {
    "name": "ipython",
    "version": 3
   },
   "file_extension": ".py",
   "mimetype": "text/x-python",
   "name": "python",
   "nbconvert_exporter": "python",
   "pygments_lexer": "ipython3",
   "version": "3.10.5"
  }
 },
 "nbformat": 4,
 "nbformat_minor": 5
}
