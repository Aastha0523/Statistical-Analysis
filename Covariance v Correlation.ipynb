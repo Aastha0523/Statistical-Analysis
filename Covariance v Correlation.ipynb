{
 "cells": [
  {
   "cell_type": "markdown",
   "id": "94d5fb26",
   "metadata": {},
   "source": [
    "# Covariance\n"
   ]
  },
  {
   "cell_type": "code",
   "execution_count": 2,
   "id": "e97b934b",
   "metadata": {},
   "outputs": [],
   "source": [
    "import seaborn as sns\n",
    "import pandas as pd\n",
    "import matplotlib.pyplot as plt\n",
    "import numpy as np"
   ]
  },
  {
   "cell_type": "code",
   "execution_count": 3,
   "id": "e8fba44d",
   "metadata": {},
   "outputs": [],
   "source": [
    "df = pd.DataFrame()"
   ]
  },
  {
   "cell_type": "code",
   "execution_count": 4,
   "id": "b8befd42",
   "metadata": {},
   "outputs": [],
   "source": [
    "from re import X\n",
    "x = pd.Series([12,25,68,42,113])\n",
    "y = pd.Series([11,29,58,121,100])"
   ]
  },
  {
   "cell_type": "code",
   "execution_count": 5,
   "id": "27cb4668",
   "metadata": {},
   "outputs": [],
   "source": [
    "df['x'] = x\n",
    "df['y'] = y"
   ]
  },
  {
   "cell_type": "code",
   "execution_count": 6,
   "id": "8c777c05",
   "metadata": {},
   "outputs": [
    {
     "data": {
      "text/html": [
       "<div>\n",
       "<style scoped>\n",
       "    .dataframe tbody tr th:only-of-type {\n",
       "        vertical-align: middle;\n",
       "    }\n",
       "\n",
       "    .dataframe tbody tr th {\n",
       "        vertical-align: top;\n",
       "    }\n",
       "\n",
       "    .dataframe thead th {\n",
       "        text-align: right;\n",
       "    }\n",
       "</style>\n",
       "<table border=\"1\" class=\"dataframe\">\n",
       "  <thead>\n",
       "    <tr style=\"text-align: right;\">\n",
       "      <th></th>\n",
       "      <th>x</th>\n",
       "      <th>y</th>\n",
       "    </tr>\n",
       "  </thead>\n",
       "  <tbody>\n",
       "    <tr>\n",
       "      <th>0</th>\n",
       "      <td>12</td>\n",
       "      <td>11</td>\n",
       "    </tr>\n",
       "    <tr>\n",
       "      <th>1</th>\n",
       "      <td>25</td>\n",
       "      <td>29</td>\n",
       "    </tr>\n",
       "    <tr>\n",
       "      <th>2</th>\n",
       "      <td>68</td>\n",
       "      <td>58</td>\n",
       "    </tr>\n",
       "    <tr>\n",
       "      <th>3</th>\n",
       "      <td>42</td>\n",
       "      <td>121</td>\n",
       "    </tr>\n",
       "    <tr>\n",
       "      <th>4</th>\n",
       "      <td>113</td>\n",
       "      <td>100</td>\n",
       "    </tr>\n",
       "  </tbody>\n",
       "</table>\n",
       "</div>"
      ],
      "text/plain": [
       "     x    y\n",
       "0   12   11\n",
       "1   25   29\n",
       "2   68   58\n",
       "3   42  121\n",
       "4  113  100"
      ]
     },
     "execution_count": 6,
     "metadata": {},
     "output_type": "execute_result"
    }
   ],
   "source": [
    "df"
   ]
  },
  {
   "cell_type": "code",
   "execution_count": 8,
   "id": "bd004aaf",
   "metadata": {},
   "outputs": [
    {
     "data": {
      "text/plain": [
       "Text(0.5, 1.0, 'Covariance - 4595.0')"
      ]
     },
     "execution_count": 8,
     "metadata": {},
     "output_type": "execute_result"
    },
    {
     "data": {
      "image/png": "[encoded data removed]",
      "text/plain": [
       "<Figure size 720x216 with 2 Axes>"
      ]
     },
     "metadata": {
      "needs_background": "light"
     },
     "output_type": "display_data"
    }
   ],
   "source": [
    "fig, (ax1, ax2) = plt.subplots(1, 2, figsize=(10,3))\n",
    "\n",
    "#plot scatterplots on each axes\n",
    "ax1.scatter(df['x'], df['y'])\n",
    "ax2.scatter(df['x']*2, df['y']*2)\n",
    "\n",
    "ax1.set_title('Covariance - ' + str(np.cov(df['x'], df['y'])[0,1]))\n",
    "ax2.set_title('Covariance - ' + str(np.cov(df['x']*2, df['y']*2)[0,1]))"
   ]
  },
  {
   "cell_type": "code",
   "execution_count": 9,
   "id": "d7d8ff10",
   "metadata": {},
   "outputs": [
    {
     "name": "stdout",
     "output_type": "stream",
     "text": [
      "1148.75\n",
      "4595.0\n"
     ]
    }
   ],
   "source": [
    "print(np.cov(df['x'], df['y'])[0,1])\n",
    "print(np.cov(df['x']*2, df['y']*2)[0,1])"
   ]
  },
  {
   "cell_type": "code",
   "execution_count": 13,
   "id": "4f0ba863",
   "metadata": {},
   "outputs": [
    {
     "data": {
      "text/plain": [
       "Text(0.5, 1.0, 'Covariance - 4595.0')"
      ]
     },
     "execution_count": 13,
     "metadata": {},
     "output_type": "execute_result"
    },
    {
     "data": {
      "image/png": "[encoded data removed]",
      "text/plain": [
       "<Figure size 1080x216 with 3 Axes>"
      ]
     },
     "metadata": {
      "needs_background": "light"
     },
     "output_type": "display_data"
    }
   ],
   "source": [
    "fig, ax = plt.subplots(1,3,figsize=(15,3))\n",
    "\n",
    "\n",
    "#plot scatterplots on each axes\n",
    "ax[0].scatter(df['x'], df['x'])\n",
    "ax[1].scatter(df['x'], df['y'])\n",
    "ax[2].scatter(df['x']*2, df['y']*2)\n",
    "\n",
    "ax[0].set_title('Covariance - ' + str(np.cov(df['x'], df['x'])[0,1]))\n",
    "ax[1].set_title('Covaraince - ' + str(np.cov(df['x'], df['y'])[0,1]))\n",
    "ax[2].set_title('Covariance - ' + str(np.cov(df['x']*2, df['y']*2)[0,1]))"
   ]
  },
  {
   "cell_type": "markdown",
   "id": "6432ea37",
   "metadata": {},
   "source": [
    "# Correlation"
   ]
  },
  {
   "cell_type": "code",
   "execution_count": 14,
   "id": "afa18254",
   "metadata": {},
   "outputs": [
    {
     "data": {
      "text/plain": [
       "Text(0.5, 1.0, 'Correlation - 0.6185423626205997')"
      ]
     },
     "execution_count": 14,
     "metadata": {},
     "output_type": "execute_result"
    },
    {
     "data": {
      "image/png": "[encoded data removed]",
      "text/plain": [
       "<Figure size 720x216 with 2 Axes>"
      ]
     },
     "metadata": {
      "needs_background": "light"
     },
     "output_type": "display_data"
    }
   ],
   "source": [
    "fig, (ax1, ax2) = plt.subplots(1, 2, figsize=(10,3))\n",
    "\n",
    "#plot scatterplots on each axes\n",
    "ax1.scatter(df['x'], df['y'])\n",
    "ax2.scatter(df['x']*2, df['y']*2)\n",
    "\n",
    "ax1.set_title('Correlation - ' + str(df['x'].corr(df['x'])))\n",
    "ax2.set_title('Correlation - ' + str(df['x'].corr(df['y'])))"
   ]
  },
  {
   "cell_type": "code",
   "execution_count": 17,
   "id": "20389ff1",
   "metadata": {},
   "outputs": [
    {
     "data": {
      "text/plain": [
       "Text(0.5, 1.0, 'Correlation - 0.6185423626205997')"
      ]
     },
     "execution_count": 17,
     "metadata": {},
     "output_type": "execute_result"
    },
    {
     "data": {
      "image/png": "[encoded data removed]",
      "text/plain": [
       "<Figure size 720x216 with 2 Axes>"
      ]
     },
     "metadata": {
      "needs_background": "light"
     },
     "output_type": "display_data"
    }
   ],
   "source": [
    "fig, (ax1,ax2) = plt.subplots(1,2,figsize=(10,3))\n",
    "\n",
    "\n",
    "#plot scatterplots on each axes\n",
    "ax1.scatter(df['x'], df['y'])\n",
    "ax2.scatter(df['x']*2, df['y']*2)\n",
    "\n",
    "\n",
    "ax1.set_title('Correlation - ' + str(df['x'].corr(df['y'])))\n",
    "ax2.set_title('Correlation - ' + str((df['x']*2).corr(df['y']*2)))"
   ]
  },
  {
   "cell_type": "code",
   "execution_count": null,
   "id": "8b5c7490",
   "metadata": {},
   "outputs": [],
   "source": []
  }
 ],
 "metadata": {
  "kernelspec": {
   "display_name": "Python 3 (ipykernel)",
   "language": "python",
   "name": "python3"
  },
  "language_info": {
   "codemirror_mode": {
    "name": "ipython",
    "version": 3
   },
   "file_extension": ".py",
   "mimetype": "text/x-python",
   "name": "python",
   "nbconvert_exporter": "python",
   "pygments_lexer": "ipython3",
   "version": "3.10.5"
  }
 },
 "nbformat": 4,
 "nbformat_minor": 5
}
