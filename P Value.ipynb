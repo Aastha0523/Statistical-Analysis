{
 "cells": [
  {
   "cell_type": "markdown",
   "id": "015c0861",
   "metadata": {},
   "source": [
    "### Single Sample T-test"
   ]
  },
  {
   "cell_type": "code",
   "execution_count": 1,
   "id": "41bd96a9",
   "metadata": {},
   "outputs": [],
   "source": [
    "import numpy as np\n",
    "import pandas as pd\n",
    "train = pd.read_csv('train.csv')\n",
    "test = pd.read_csv('test.csv')"
   ]
  },
  {
   "cell_type": "code",
   "execution_count": 2,
   "id": "cd5df23c",
   "metadata": {},
   "outputs": [],
   "source": [
    "final_df = pd.concat([train, test]).sample(1309)"
   ]
  },
  {
   "cell_type": "code",
   "execution_count": 3,
   "id": "43264b1e",
   "metadata": {},
   "outputs": [],
   "source": [
    "pop = final_df['Age'].dropna()"
   ]
  },
  {
   "cell_type": "code",
   "execution_count": 4,
   "id": "ea7dd53d",
   "metadata": {},
   "outputs": [],
   "source": [
    "sample_age = pop.sample(25).values"
   ]
  },
  {
   "cell_type": "code",
   "execution_count": 5,
   "id": "ddbbccb4",
   "metadata": {},
   "outputs": [
    {
     "data": {
      "text/plain": [
       "array([ 5., 31., 32., 35., 34., 26.,  9., 28., 27.,  7., 38., 42., 24.,\n",
       "       24., 55., 55., 22., 34., 16., 47., 26., 25., 39., 24., 63.])"
      ]
     },
     "execution_count": 5,
     "metadata": {},
     "output_type": "execute_result"
    }
   ],
   "source": [
    "sample_age"
   ]
  },
  {
   "cell_type": "code",
   "execution_count": 6,
   "id": "1ededad4",
   "metadata": {},
   "outputs": [],
   "source": [
    "# H0 -> The mean age is 35\n",
    "# H1 -> The mean age is less than 35"
   ]
  },
  {
   "cell_type": "code",
   "execution_count": 7,
   "id": "123d3908",
   "metadata": {},
   "outputs": [
    {
     "name": "stdout",
     "output_type": "stream",
     "text": [
      "ShapiroResult(statistic=0.9631302952766418, pvalue=0.4802742600440979)\n"
     ]
    }
   ],
   "source": [
    "# Check for normality using Shapiro Wilk Test\n",
    "from scipy.stats import shapiro\n",
    "\n",
    "shapiro_age = shapiro(sample_age)\n",
    "\n",
    "print(shapiro_age)"
   ]
  },
  {
   "cell_type": "code",
   "execution_count": 8,
   "id": "339a9a16",
   "metadata": {},
   "outputs": [],
   "source": [
    "pop_mean = 35"
   ]
  },
  {
   "cell_type": "code",
   "execution_count": 12,
   "id": "02e74bf2",
   "metadata": {},
   "outputs": [
    {
     "name": "stdout",
     "output_type": "stream",
     "text": [
      "t_statistics: -1.4827778447853548\n",
      "p-value: 0.0755734391514682\n"
     ]
    }
   ],
   "source": [
    "import scipy.stats as stats\n",
    "\n",
    "t_statistic, p_value = stats.ttest_1samp(sample_age, pop_mean)\n",
    "\n",
    "print('t_statistics:', t_statistic)\n",
    "print('p-value:', p_value/2) # 1 tail test"
   ]
  },
  {
   "cell_type": "code",
   "execution_count": 13,
   "id": "4abceb31",
   "metadata": {},
   "outputs": [
    {
     "name": "stdout",
     "output_type": "stream",
     "text": [
      "Fail to reject the null hypothesis\n"
     ]
    }
   ],
   "source": [
    "alpha = 0.05\n",
    "\n",
    "if p_value < alpha:\n",
    "    print('Reject the null hypothesis.')\n",
    "else:\n",
    "    print('Fail to reject the null hypothesis')"
   ]
  },
  {
   "cell_type": "markdown",
   "id": "4d48b16b",
   "metadata": {},
   "source": [
    "### Independent 2 Sample T-test"
   ]
  },
  {
   "cell_type": "code",
   "execution_count": 14,
   "id": "0e8e5065",
   "metadata": {},
   "outputs": [
    {
     "name": "stdout",
     "output_type": "stream",
     "text": [
      "Shapiro-Wilk test for desktop users: ShapiroResult(statistic=0.9783114194869995, pvalue=0.7790969014167786)\n",
      "Shapiro-Wilk test for mobile users: ShapiroResult(statistic=0.9714356064796448, pvalue=0.5791608691215515)\n"
     ]
    }
   ],
   "source": [
    "from scipy.stats import shapiro\n",
    "\n",
    "# Input the data as lists\n",
    "desktop_users = [12, 15, 18, 16, 20, 17, 14, 22, 19, 21, 23, 18, 25, 17, 16, 24, 20, 19, 22, 18, 15, 14, 23, 16, 12, 21, 19, 17, 20, 14]\n",
    "mobile_users = [10, 12, 14, 13, 16, 15, 11, 17, 14, 16, 18, 14, 20, 15, 14, 19, 16, 15, 17, 14, 12, 11, 18, 15, 10, 16, 15, 13, 16, 11]\n",
    "\n",
    "# Perform the Shapiro-Wilk test for both desktop and mobile users\n",
    "shapiro_desktop = shapiro(desktop_users)\n",
    "shapiro_mobile = shapiro(mobile_users)\n",
    "\n",
    "print('Shapiro-Wilk test for desktop users:', shapiro_desktop)\n",
    "print('Shapiro-Wilk test for mobile users:', shapiro_mobile)"
   ]
  },
  {
   "cell_type": "code",
   "execution_count": 15,
   "id": "142941c3",
   "metadata": {},
   "outputs": [
    {
     "name": "stdout",
     "output_type": "stream",
     "text": [
      "LeveneResult(statistic=2.94395488191752, pvalue=0.09153720526741756)\n"
     ]
    }
   ],
   "source": [
    "from scipy.stats import levene\n",
    "\n",
    "desktop_users = [12, 15, 18, 16, 20, 17, 14, 22, 19, 21, 23, 18, 25, 17, 16, 24, 20, 19, 22, 18, 15, 14, 23, 16, 12, 21, 19, 17, 20, 14]\n",
    "mobile_users = [10, 12, 14, 13, 16, 15, 11, 17, 14, 16, 18, 14, 20, 15, 14, 19, 16, 15, 17, 14, 12, 11, 18, 15, 10, 16, 15, 13, 16, 11]\n",
    "\n",
    "# Perform Levene's test\n",
    "levene_test = levene(desktop_users, mobile_users)\n",
    "print(levene_test)"
   ]
  },
  {
   "cell_type": "code",
   "execution_count": 17,
   "id": "cc09df59",
   "metadata": {},
   "outputs": [],
   "source": [
    "import numpy as np\n",
    "import pandas as pd\n",
    "train = pd.read_csv('train.csv').drop(columns = ['Survived'])\n",
    "test = pd.read_csv('test.csv')"
   ]
  },
  {
   "cell_type": "code",
   "execution_count": 18,
   "id": "d55c2675",
   "metadata": {},
   "outputs": [],
   "source": [
    "final_df = pd.concat([train, test]).sample(1309)"
   ]
  },
  {
   "cell_type": "code",
   "execution_count": 19,
   "id": "787226bd",
   "metadata": {},
   "outputs": [],
   "source": [
    "pop_male = final_df[final_df['Sex'] == 'male']['Age'].dropna()\n",
    "pop_female = final_df[final_df['Sex'] == 'female']['Age'].dropna()"
   ]
  },
  {
   "cell_type": "code",
   "execution_count": 20,
   "id": "b2118337",
   "metadata": {},
   "outputs": [],
   "source": [
    "sample_male = pop_male.sample(25)\n",
    "sample_female = pop_female.sample(25)\n",
    "\n",
    "alpha = 0.05"
   ]
  },
  {
   "cell_type": "code",
   "execution_count": 21,
   "id": "4a0a11c3",
   "metadata": {},
   "outputs": [],
   "source": [
    "# H0 -> Mean age of male and female are same\n",
    "# H1 -> Mean age of male is higher than female"
   ]
  },
  {
   "cell_type": "code",
   "execution_count": 22,
   "id": "72ef186a",
   "metadata": {},
   "outputs": [
    {
     "name": "stdout",
     "output_type": "stream",
     "text": [
      "Shapiro-Wilk test for male: ShapiroResult(statistic=0.9519215822219849, pvalue=0.2768935561180115)\n",
      "Shapiro-Wilk test for female: ShapiroResult(statistic=0.9431780576705933, pvalue=0.17523841559886932)\n"
     ]
    }
   ],
   "source": [
    "from scipy.stats import shapiro\n",
    "\n",
    "shapiro_male = shapiro(sample_male)\n",
    "shapiro_female = shapiro(sample_female)\n",
    "\n",
    "print('Shapiro-Wilk test for male:', shapiro_male)\n",
    "print('Shapiro-Wilk test for female:', shapiro_female)"
   ]
  },
  {
   "cell_type": "code",
   "execution_count": 23,
   "id": "08551084",
   "metadata": {},
   "outputs": [
    {
     "name": "stdout",
     "output_type": "stream",
     "text": [
      "LeveneResult(statistic=0.07431257966791925, pvalue=0.7863274793715005)\n"
     ]
    }
   ],
   "source": [
    "from scipy.stats import levene\n",
    "\n",
    "# Perform Levene's test\n",
    "levene_test = levene(sample_male, sample_female)\n",
    "print(levene_test)"
   ]
  },
  {
   "cell_type": "code",
   "execution_count": 25,
   "id": "16c97fa0",
   "metadata": {},
   "outputs": [
    {
     "name": "stdout",
     "output_type": "stream",
     "text": [
      "t_statistics: 1.0666353606894694\n",
      "p-value: 0.14573610187206368\n"
     ]
    }
   ],
   "source": [
    "import scipy.stats as stats\n",
    "\n",
    "t_statistic, p_value = stats.ttest_ind(sample_male, sample_female)\n",
    "\n",
    "print('t_statistics:', t_statistic)\n",
    "print('p-value:', p_value/2) # 1 tail test"
   ]
  },
  {
   "cell_type": "markdown",
   "id": "3ea0d5ca",
   "metadata": {},
   "source": [
    "### Paired 2 Sample T-test"
   ]
  },
  {
   "cell_type": "code",
   "execution_count": 28,
   "id": "64b083ae",
   "metadata": {},
   "outputs": [],
   "source": [
    "import numpy as np\n",
    "import pandas as pd\n",
    "import matplotlib.pyplot as plt\n",
    "\n",
    "before=np.array([80, 92, 75, 68, 85, 78, 73, 90, 70, 88, 76, 84, 82, 77, 91])\n",
    "after=np.array([78, 93, 81, 67, 88, 76, 74, 91, 69, 88, 77, 81, 80, 79, 88])"
   ]
  },
  {
   "cell_type": "code",
   "execution_count": 29,
   "id": "59078bf1",
   "metadata": {},
   "outputs": [],
   "source": [
    "differences = after - before"
   ]
  },
  {
   "cell_type": "code",
   "execution_count": 30,
   "id": "fc341a16",
   "metadata": {},
   "outputs": [
    {
     "data": {
      "image/png": "[encoded data removed]",
      "text/plain": [
       "<Figure size 432x288 with 1 Axes>"
      ]
     },
     "metadata": {
      "needs_background": "light"
     },
     "output_type": "display_data"
    },
    {
     "name": "stdout",
     "output_type": "stream",
     "text": [
      "Shapiro-Wilk test: ShapiroResult(statistic=0.9220570921897888, pvalue=0.20704729855060577)\n"
     ]
    }
   ],
   "source": [
    "plt.hist(differences)\n",
    "plt.title('Histogram of Weight Differences')\n",
    "plt.xlabel('Weight Difference (kg)')\n",
    "plt.ylabel('Frequency')\n",
    "plt.show()\n",
    "\n",
    "shapiro_test = stats.shapiro(differences)\n",
    "print('Shapiro-Wilk test:', shapiro_test)"
   ]
  },
  {
   "cell_type": "code",
   "execution_count": 31,
   "id": "81a34393",
   "metadata": {},
   "outputs": [],
   "source": [
    "mean_diff = np.mean(differences)\n",
    "std_diff = np.std(differences, ddof = 1)"
   ]
  },
  {
   "cell_type": "code",
   "execution_count": 32,
   "id": "34588298",
   "metadata": {},
   "outputs": [],
   "source": [
    "n = len(differences)\n",
    "t_statistics = mean_diff/(std_diff/np.sqrt(n))\n",
    "df = n-1"
   ]
  },
  {
   "cell_type": "code",
   "execution_count": 33,
   "id": "55e328e1",
   "metadata": {},
   "outputs": [
    {
     "data": {
      "text/plain": [
       "1.0666353606894694"
      ]
     },
     "execution_count": 33,
     "metadata": {},
     "output_type": "execute_result"
    }
   ],
   "source": [
    "t_statistic"
   ]
  },
  {
   "cell_type": "code",
   "execution_count": 36,
   "id": "f4b78bae",
   "metadata": {},
   "outputs": [],
   "source": [
    "alpha = 0.05\n",
    "p_value = stats.t.cdf(t_statistic, df)"
   ]
  },
  {
   "cell_type": "code",
   "execution_count": 35,
   "id": "75694e41",
   "metadata": {},
   "outputs": [
    {
     "data": {
      "text/plain": [
       "0.1520929058814824"
      ]
     },
     "execution_count": 35,
     "metadata": {},
     "output_type": "execute_result"
    }
   ],
   "source": [
    "p_value"
   ]
  },
  {
   "cell_type": "code",
   "execution_count": 37,
   "id": "4cc3e0d4",
   "metadata": {},
   "outputs": [],
   "source": [
    "# Null Hypothesis failed to reject"
   ]
  },
  {
   "cell_type": "code",
   "execution_count": null,
   "id": "ce3dff2d",
   "metadata": {},
   "outputs": [],
   "source": []
  }
 ],
 "metadata": {
  "kernelspec": {
   "display_name": "Python 3 (ipykernel)",
   "language": "python",
   "name": "python3"
  },
  "language_info": {
   "codemirror_mode": {
    "name": "ipython",
    "version": 3
   },
   "file_extension": ".py",
   "mimetype": "text/x-python",
   "name": "python",
   "nbconvert_exporter": "python",
   "pygments_lexer": "ipython3",
   "version": "3.10.5"
  }
 },
 "nbformat": 4,
 "nbformat_minor": 5
}
