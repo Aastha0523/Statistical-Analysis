{
 "cells": [
  {
   "cell_type": "markdown",
   "id": "748437b1",
   "metadata": {},
   "source": [
    "# Titanic Case Study"
   ]
  },
  {
   "cell_type": "code",
   "execution_count": 9,
   "id": "fc8d78ff",
   "metadata": {},
   "outputs": [],
   "source": [
    "import pandas as pd\n",
    "import numpy as np\n",
    "\n",
    "train_df = pd.read_csv('train.csv')\n",
    "test_df = pd.read_csv('test.csv')"
   ]
  },
  {
   "cell_type": "code",
   "execution_count": 10,
   "id": "e0ee391f",
   "metadata": {},
   "outputs": [],
   "source": [
    "df = pd.concat([train_df.drop(columns=['Survived']),test_df]).sample(1309)"
   ]
  },
  {
   "cell_type": "code",
   "execution_count": 11,
   "id": "8934f1f5",
   "metadata": {},
   "outputs": [
    {
     "data": {
      "text/plain": [
       "<Axes: ylabel='Density'>"
      ]
     },
     "execution_count": 11,
     "metadata": {},
     "output_type": "execute_result"
    },
    {
     "data": {
      "image/png": "[encoded data removed]",
      "text/plain": [
       "<Figure size 432x288 with 1 Axes>"
      ]
     },
     "metadata": {
      "needs_background": "light"
     },
     "output_type": "display_data"
    }
   ],
   "source": [
    "df['Fare'].plot(kind='kde')"
   ]
  },
  {
   "cell_type": "code",
   "execution_count": 12,
   "id": "81852616",
   "metadata": {},
   "outputs": [],
   "source": [
    "# sample size = 50 --> 100 times\n",
    "samples = []\n",
    "stds=[]\n",
    "for i in range(10):\n",
    "    x = df['Fare'].sample(30).values\n",
    "    stds.append(x.std())\n",
    "    samples.append(x.tolist())"
   ]
  },
  {
   "cell_type": "code",
   "execution_count": 13,
   "id": "a8c09665",
   "metadata": {},
   "outputs": [],
   "source": [
    "samples = np.array(samples)"
   ]
  },
  {
   "cell_type": "code",
   "execution_count": 14,
   "id": "53c30bd3",
   "metadata": {},
   "outputs": [],
   "source": [
    "sampling_means = samples.mean(axis = 1)"
   ]
  },
  {
   "cell_type": "code",
   "execution_count": 16,
   "id": "28771409",
   "metadata": {},
   "outputs": [],
   "source": [
    "sample_std = np.mean(stds)"
   ]
  },
  {
   "cell_type": "code",
   "execution_count": 17,
   "id": "f9919142",
   "metadata": {},
   "outputs": [],
   "source": [
    "import seaborn as sns"
   ]
  },
  {
   "cell_type": "code",
   "execution_count": 18,
   "id": "e517be78",
   "metadata": {},
   "outputs": [
    {
     "data": {
      "text/plain": [
       "<Axes: ylabel='Density'>"
      ]
     },
     "execution_count": 18,
     "metadata": {},
     "output_type": "execute_result"
    },
    {
     "data": {
      "image/png": "[encoded data removed]",
      "text/plain": [
       "<Figure size 432x288 with 1 Axes>"
      ]
     },
     "metadata": {
      "needs_background": "light"
     },
     "output_type": "display_data"
    }
   ],
   "source": [
    "sns.kdeplot(sampling_means)"
   ]
  },
  {
   "cell_type": "code",
   "execution_count": 19,
   "id": "1502358b",
   "metadata": {},
   "outputs": [
    {
     "data": {
      "text/plain": [
       "32.19187566666667"
      ]
     },
     "execution_count": 19,
     "metadata": {},
     "output_type": "execute_result"
    }
   ],
   "source": [
    "sampling_means.mean()"
   ]
  },
  {
   "cell_type": "code",
   "execution_count": 20,
   "id": "e0928edc",
   "metadata": {},
   "outputs": [
    {
     "data": {
      "text/plain": [
       "7.455364313071205"
      ]
     },
     "execution_count": 20,
     "metadata": {},
     "output_type": "execute_result"
    }
   ],
   "source": [
    "sampling_means.std()"
   ]
  },
  {
   "cell_type": "code",
   "execution_count": 21,
   "id": "436e5621",
   "metadata": {},
   "outputs": [
    {
     "data": {
      "text/plain": [
       "1.054347732397767"
      ]
     },
     "execution_count": 21,
     "metadata": {},
     "output_type": "execute_result"
    }
   ],
   "source": [
    "sampling_means.std()/np.sqrt(50)"
   ]
  },
  {
   "cell_type": "code",
   "execution_count": 24,
   "id": "45000c87",
   "metadata": {},
   "outputs": [],
   "source": [
    "# 95% Confidence Level\n",
    "lower_limit = sampling_means.mean() - 2.042 * (sample_std/np.sqrt(30))\n",
    "upper_limit = sampling_means.mean() + 2.042 * (sample_std/np.sqrt(30))"
   ]
  },
  {
   "cell_type": "code",
   "execution_count": 25,
   "id": "3aaccb5a",
   "metadata": {},
   "outputs": [
    {
     "name": "stdout",
     "output_type": "stream",
     "text": [
      "The range is 16.260198720845565 - 48.12355261248777\n"
     ]
    }
   ],
   "source": [
    "print('The range is', lower_limit, '-', upper_limit)"
   ]
  },
  {
   "cell_type": "code",
   "execution_count": 26,
   "id": "845ff975",
   "metadata": {},
   "outputs": [],
   "source": [
    "# 50% Confidence Level\n",
    "lower_limit = sampling_means.mean() - 0.683 * (sample_std/np.sqrt(30))\n",
    "upper_limit = sampling_means.mean() + 0.683 * (sample_std/np.sqrt(30))"
   ]
  },
  {
   "cell_type": "code",
   "execution_count": 27,
   "id": "bf3499e6",
   "metadata": {},
   "outputs": [
    {
     "name": "stdout",
     "output_type": "stream",
     "text": [
      "The range is 26.863112026120238 - 37.5206393072131\n"
     ]
    }
   ],
   "source": [
    "print('The range is', lower_limit, '-', upper_limit)"
   ]
  },
  {
   "cell_type": "code",
   "execution_count": null,
   "id": "c281ce64",
   "metadata": {},
   "outputs": [],
   "source": []
  }
 ],
 "metadata": {
  "kernelspec": {
   "display_name": "Python 3 (ipykernel)",
   "language": "python",
   "name": "python3"
  },
  "language_info": {
   "codemirror_mode": {
    "name": "ipython",
    "version": 3
   },
   "file_extension": ".py",
   "mimetype": "text/x-python",
   "name": "python",
   "nbconvert_exporter": "python",
   "pygments_lexer": "ipython3",
   "version": "3.10.5"
  }
 },
 "nbformat": 4,
 "nbformat_minor": 5
}
